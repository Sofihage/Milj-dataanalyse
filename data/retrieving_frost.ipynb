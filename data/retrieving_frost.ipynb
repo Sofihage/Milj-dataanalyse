{
 "cells": [
  {
   "cell_type": "code",
   "execution_count": 11,
   "metadata": {},
   "outputs": [
    {
     "name": "stdout",
     "output_type": "stream",
     "text": [
      "Data retrieved from frost.met.no!\n"
     ]
    },
    {
     "data": {
      "text/plain": [
       "20"
      ]
     },
     "execution_count": 11,
     "metadata": {},
     "output_type": "execute_result"
    }
   ],
   "source": [
    "import requests\n",
    "import pandas as pd\n",
    "\n",
    "client_id = \"ddfffd54-8c49-4f8d-a5b5-3de5c24bf655\"\n",
    "\n",
    "endpoint = 'https://frost.met.no/observations/v0.jsonld'\n",
    "parameters = {\n",
    "    'sources': 'SN18700,SN90450',\n",
    "    'elements': 'mean(air_temperature P1D),sum(precipitation_amount P1D),mean(wind_speed P1D)',\n",
    "    'referencetime': '2010-04-01/2010-04-03',\n",
    "}\n",
    "r = requests.get(endpoint, parameters, auth=(client_id,''))\n",
    "json = r.json()\n",
    "\n",
    "if r.status_code == 200:\n",
    "    data = json['data']\n",
    "    print('Data retrieved from frost.met.no!')\n",
    "else:\n",
    "    print('Error! Returned status code %s' % r.status_code)\n",
    "    print('Message: %s' % json['error']['message'])\n",
    "    print('Reason: %s' % json['error']['reason'])\n",
    "\n",
    "df = pd.DataFrame()\n",
    "for i in range(len(data)):\n",
    "    row = pd.DataFrame(data[i]['observations'])\n",
    "    row['referenceTime'] = data[i]['referenceTime']\n",
    "    row['sourceId'] = data[i]['sourceId']\n",
    "    df = df._append(row)\n",
    "\n",
    "df = df.reset_index()\n",
    "\n",
    "df.head()\n",
    "len(df.index)"
   ]
  }
 ],
 "metadata": {
  "kernelspec": {
   "display_name": "venv",
   "language": "python",
   "name": "python3"
  },
  "language_info": {
   "codemirror_mode": {
    "name": "ipython",
    "version": 3
   },
   "file_extension": ".py",
   "mimetype": "text/x-python",
   "name": "python",
   "nbconvert_exporter": "python",
   "pygments_lexer": "ipython3",
   "version": "3.13.1"
  }
 },
 "nbformat": 4,
 "nbformat_minor": 2
}
