{
 "cells": [
  {
   "cell_type": "code",
   "execution_count": 1,
   "id": "058d81cd",
   "metadata": {},
   "outputs": [],
   "source": [
    "import sys\n",
    "src_path = \"..\\\\src\"\n",
    "src_path_2 = \"..\\\\venv\"\n",
    "\n",
    "if src_path not in sys.path:\n",
    "        sys.path.insert(0, src_path)\n",
    "\n",
    "if src_path_2 not in sys.path:\n",
    "        sys.path.insert(0, src_path_2)\n",
    "\n",
    "\n",
    "# Alle funskjonene ligger i en felles fil\n",
    "import functions as fc\n",
    "\n",
    "import pandas as pd\n",
    "import matplotlib.pyplot as plt\n",
    "import numpy as np\n",
    "import plotly.express as px\n",
    "from collections import Counter\n",
    "from sklearn.preprocessing import LabelEncoder\n",
    "from pandasql import sqldf\n",
    "from matplotlib.widgets import CheckButtons\n",
    "\n",
    "import functions as fc"
   ]
  },
  {
   "cell_type": "markdown",
   "id": "f7639833",
   "metadata": {},
   "source": [
    "# Forberedelser\n",
    "### Last ned datasettet"
   ]
  },
  {
   "cell_type": "code",
   "execution_count": 2,
   "id": "9b94a9c4",
   "metadata": {},
   "outputs": [
    {
     "data": {
      "text/html": [
       "<div>\n",
       "<style scoped>\n",
       "    .dataframe tbody tr th:only-of-type {\n",
       "        vertical-align: middle;\n",
       "    }\n",
       "\n",
       "    .dataframe tbody tr th {\n",
       "        vertical-align: top;\n",
       "    }\n",
       "\n",
       "    .dataframe thead th {\n",
       "        text-align: right;\n",
       "    }\n",
       "</style>\n",
       "<table border=\"1\" class=\"dataframe\">\n",
       "  <thead>\n",
       "    <tr style=\"text-align: right;\">\n",
       "      <th></th>\n",
       "      <th>Unnamed: 0</th>\n",
       "      <th>verdi</th>\n",
       "      <th>tidsforskyvning</th>\n",
       "      <th>referansetid</th>\n",
       "    </tr>\n",
       "  </thead>\n",
       "  <tbody>\n",
       "    <tr>\n",
       "      <th>0</th>\n",
       "      <td>0</td>\n",
       "      <td>6.9</td>\n",
       "      <td>PT0H</td>\n",
       "      <td>2024-01-01T00:00:00.000Z</td>\n",
       "    </tr>\n",
       "    <tr>\n",
       "      <th>1</th>\n",
       "      <td>1</td>\n",
       "      <td>6.3</td>\n",
       "      <td>PT0H</td>\n",
       "      <td>2024-01-02T00:00:00.000Z</td>\n",
       "    </tr>\n",
       "    <tr>\n",
       "      <th>2</th>\n",
       "      <td>2</td>\n",
       "      <td>5.4</td>\n",
       "      <td>PT0H</td>\n",
       "      <td>2024-01-03T00:00:00.000Z</td>\n",
       "    </tr>\n",
       "    <tr>\n",
       "      <th>3</th>\n",
       "      <td>3</td>\n",
       "      <td>4.8</td>\n",
       "      <td>PT0H</td>\n",
       "      <td>2024-01-04T00:00:00.000Z</td>\n",
       "    </tr>\n",
       "    <tr>\n",
       "      <th>4</th>\n",
       "      <td>4</td>\n",
       "      <td>1.9</td>\n",
       "      <td>PT0H</td>\n",
       "      <td>2024-01-05T00:00:00.000Z</td>\n",
       "    </tr>\n",
       "  </tbody>\n",
       "</table>\n",
       "</div>"
      ],
      "text/plain": [
       "   Unnamed: 0  verdi tidsforskyvning              referansetid\n",
       "0           0    6.9            PT0H  2024-01-01T00:00:00.000Z\n",
       "1           1    6.3            PT0H  2024-01-02T00:00:00.000Z\n",
       "2           2    5.4            PT0H  2024-01-03T00:00:00.000Z\n",
       "3           3    4.8            PT0H  2024-01-04T00:00:00.000Z\n",
       "4           4    1.9            PT0H  2024-01-05T00:00:00.000Z"
      ]
     },
     "execution_count": 2,
     "metadata": {},
     "output_type": "execute_result"
    }
   ],
   "source": [
    "# Hente frem datasettet og kaller det wind\n",
    "wind = pd.read_csv('../data/wind.csv')\n",
    "\n",
    "# Dobbelskjekket at dataen har kommet, ved å vise de første 5 linjene\n",
    "wind.head()"
   ]
  },
  {
   "cell_type": "markdown",
   "id": "cf6d96e6",
   "metadata": {},
   "source": [
    "# Forstå data\n",
    "Se hvilke datatyper vi har og blir mere kjent med datasettet, for å gjøre det lettere å jobbe med senere."
   ]
  },
  {
   "cell_type": "code",
   "execution_count": 3,
   "id": "68a1c06b",
   "metadata": {},
   "outputs": [
    {
     "name": "stdout",
     "output_type": "stream",
     "text": [
      "<class 'pandas.core.frame.DataFrame'>\n",
      "RangeIndex: 730 entries, 0 to 729\n",
      "Data columns (total 4 columns):\n",
      " #   Column           Non-Null Count  Dtype  \n",
      "---  ------           --------------  -----  \n",
      " 0   Unnamed: 0       730 non-null    int64  \n",
      " 1   verdi            730 non-null    float64\n",
      " 2   tidsforskyvning  730 non-null    object \n",
      " 3   referansetid     730 non-null    object \n",
      "dtypes: float64(1), int64(1), object(2)\n",
      "memory usage: 22.9+ KB\n"
     ]
    }
   ],
   "source": [
    "# Skjekker hvilke datatype refaransetid er\n",
    "wind.info()"
   ]
  },
  {
   "cell_type": "markdown",
   "id": "32683bde",
   "metadata": {},
   "source": [
    "I dette datasettet har vi integer, float og object som er string."
   ]
  },
  {
   "cell_type": "code",
   "execution_count": 4,
   "id": "834b7521",
   "metadata": {},
   "outputs": [
    {
     "name": "stdout",
     "output_type": "stream",
     "text": [
      "type: <class 'pandas.core.frame.DataFrame'>\n",
      "shape: (730, 4)\n"
     ]
    }
   ],
   "source": [
    "# forstå dataen\n",
    "print('type:', type(wind))\n",
    "print('shape:', wind.shape)"
   ]
  },
  {
   "cell_type": "markdown",
   "id": "29ffbe82",
   "metadata": {},
   "source": [
    "### Verdier"
   ]
  },
  {
   "cell_type": "code",
   "execution_count": 5,
   "id": "a0209fb0",
   "metadata": {},
   "outputs": [
    {
     "name": "stdout",
     "output_type": "stream",
     "text": [
      "Den minste verdien er 0.6\n",
      "Den største verdien er 11.4\n"
     ]
    }
   ],
   "source": [
    "# den minste og største verdien\n",
    "print(\"Den minste verdien er\", wind['verdi'].min())\n",
    "print(\"Den største verdien er\", wind['verdi'].max())"
   ]
  },
  {
   "cell_type": "code",
   "execution_count": 6,
   "id": "a68d3e03",
   "metadata": {},
   "outputs": [
    {
     "data": {
      "text/html": [
       "<div>\n",
       "<style scoped>\n",
       "    .dataframe tbody tr th:only-of-type {\n",
       "        vertical-align: middle;\n",
       "    }\n",
       "\n",
       "    .dataframe tbody tr th {\n",
       "        vertical-align: top;\n",
       "    }\n",
       "\n",
       "    .dataframe thead th {\n",
       "        text-align: right;\n",
       "    }\n",
       "</style>\n",
       "<table border=\"1\" class=\"dataframe\">\n",
       "  <thead>\n",
       "    <tr style=\"text-align: right;\">\n",
       "      <th></th>\n",
       "      <th>Unnamed: 0</th>\n",
       "      <th>verdi</th>\n",
       "      <th>tidsforskyvning</th>\n",
       "      <th>referansetid</th>\n",
       "    </tr>\n",
       "  </thead>\n",
       "  <tbody>\n",
       "    <tr>\n",
       "      <th>234</th>\n",
       "      <td>234</td>\n",
       "      <td>3.0</td>\n",
       "      <td>PT0H</td>\n",
       "      <td>2024-08-22T00:00:00.000Z</td>\n",
       "    </tr>\n",
       "    <tr>\n",
       "      <th>19</th>\n",
       "      <td>19</td>\n",
       "      <td>1.4</td>\n",
       "      <td>PT0H</td>\n",
       "      <td>2024-01-20T00:00:00.000Z</td>\n",
       "    </tr>\n",
       "    <tr>\n",
       "      <th>328</th>\n",
       "      <td>328</td>\n",
       "      <td>2.8</td>\n",
       "      <td>PT0H</td>\n",
       "      <td>2024-11-24T00:00:00.000Z</td>\n",
       "    </tr>\n",
       "    <tr>\n",
       "      <th>14</th>\n",
       "      <td>14</td>\n",
       "      <td>2.0</td>\n",
       "      <td>PT0H</td>\n",
       "      <td>2024-01-15T00:00:00.000Z</td>\n",
       "    </tr>\n",
       "    <tr>\n",
       "      <th>541</th>\n",
       "      <td>541</td>\n",
       "      <td>3.8</td>\n",
       "      <td>PT0H</td>\n",
       "      <td>2024-06-25T00:00:00.000Z</td>\n",
       "    </tr>\n",
       "    <tr>\n",
       "      <th>212</th>\n",
       "      <td>212</td>\n",
       "      <td>2.9</td>\n",
       "      <td>PT0H</td>\n",
       "      <td>2024-07-31T00:00:00.000Z</td>\n",
       "    </tr>\n",
       "    <tr>\n",
       "      <th>386</th>\n",
       "      <td>386</td>\n",
       "      <td>4.4</td>\n",
       "      <td>PT0H</td>\n",
       "      <td>2024-01-22T00:00:00.000Z</td>\n",
       "    </tr>\n",
       "    <tr>\n",
       "      <th>282</th>\n",
       "      <td>282</td>\n",
       "      <td>2.1</td>\n",
       "      <td>PT0H</td>\n",
       "      <td>2024-10-09T00:00:00.000Z</td>\n",
       "    </tr>\n",
       "    <tr>\n",
       "      <th>82</th>\n",
       "      <td>82</td>\n",
       "      <td>3.0</td>\n",
       "      <td>PT0H</td>\n",
       "      <td>2024-03-23T00:00:00.000Z</td>\n",
       "    </tr>\n",
       "    <tr>\n",
       "      <th>109</th>\n",
       "      <td>109</td>\n",
       "      <td>2.3</td>\n",
       "      <td>PT0H</td>\n",
       "      <td>2024-04-19T00:00:00.000Z</td>\n",
       "    </tr>\n",
       "  </tbody>\n",
       "</table>\n",
       "</div>"
      ],
      "text/plain": [
       "     Unnamed: 0  verdi tidsforskyvning              referansetid\n",
       "234         234    3.0            PT0H  2024-08-22T00:00:00.000Z\n",
       "19           19    1.4            PT0H  2024-01-20T00:00:00.000Z\n",
       "328         328    2.8            PT0H  2024-11-24T00:00:00.000Z\n",
       "14           14    2.0            PT0H  2024-01-15T00:00:00.000Z\n",
       "541         541    3.8            PT0H  2024-06-25T00:00:00.000Z\n",
       "212         212    2.9            PT0H  2024-07-31T00:00:00.000Z\n",
       "386         386    4.4            PT0H  2024-01-22T00:00:00.000Z\n",
       "282         282    2.1            PT0H  2024-10-09T00:00:00.000Z\n",
       "82           82    3.0            PT0H  2024-03-23T00:00:00.000Z\n",
       "109         109    2.3            PT0H  2024-04-19T00:00:00.000Z"
      ]
     },
     "execution_count": 6,
     "metadata": {},
     "output_type": "execute_result"
    }
   ],
   "source": [
    "# 10 tilfelige verdier\n",
    "wind.sample(10)"
   ]
  },
  {
   "cell_type": "code",
   "execution_count": 7,
   "id": "2b7e6d43",
   "metadata": {},
   "outputs": [
    {
     "data": {
      "text/html": [
       "<div>\n",
       "<style scoped>\n",
       "    .dataframe tbody tr th:only-of-type {\n",
       "        vertical-align: middle;\n",
       "    }\n",
       "\n",
       "    .dataframe tbody tr th {\n",
       "        vertical-align: top;\n",
       "    }\n",
       "\n",
       "    .dataframe thead th {\n",
       "        text-align: right;\n",
       "    }\n",
       "</style>\n",
       "<table border=\"1\" class=\"dataframe\">\n",
       "  <thead>\n",
       "    <tr style=\"text-align: right;\">\n",
       "      <th></th>\n",
       "      <th>Unnamed: 0</th>\n",
       "      <th>verdi</th>\n",
       "      <th>tidsforskyvning</th>\n",
       "      <th>referansetid</th>\n",
       "    </tr>\n",
       "  </thead>\n",
       "  <tbody>\n",
       "    <tr>\n",
       "      <th>725</th>\n",
       "      <td>725</td>\n",
       "      <td>6.6</td>\n",
       "      <td>PT0H</td>\n",
       "      <td>2024-12-26T00:00:00.000Z</td>\n",
       "    </tr>\n",
       "    <tr>\n",
       "      <th>726</th>\n",
       "      <td>726</td>\n",
       "      <td>4.3</td>\n",
       "      <td>PT0H</td>\n",
       "      <td>2024-12-27T00:00:00.000Z</td>\n",
       "    </tr>\n",
       "    <tr>\n",
       "      <th>727</th>\n",
       "      <td>727</td>\n",
       "      <td>6.2</td>\n",
       "      <td>PT0H</td>\n",
       "      <td>2024-12-28T00:00:00.000Z</td>\n",
       "    </tr>\n",
       "    <tr>\n",
       "      <th>728</th>\n",
       "      <td>728</td>\n",
       "      <td>6.2</td>\n",
       "      <td>PT0H</td>\n",
       "      <td>2024-12-29T00:00:00.000Z</td>\n",
       "    </tr>\n",
       "    <tr>\n",
       "      <th>729</th>\n",
       "      <td>729</td>\n",
       "      <td>6.1</td>\n",
       "      <td>PT0H</td>\n",
       "      <td>2024-12-30T00:00:00.000Z</td>\n",
       "    </tr>\n",
       "  </tbody>\n",
       "</table>\n",
       "</div>"
      ],
      "text/plain": [
       "     Unnamed: 0  verdi tidsforskyvning              referansetid\n",
       "725         725    6.6            PT0H  2024-12-26T00:00:00.000Z\n",
       "726         726    4.3            PT0H  2024-12-27T00:00:00.000Z\n",
       "727         727    6.2            PT0H  2024-12-28T00:00:00.000Z\n",
       "728         728    6.2            PT0H  2024-12-29T00:00:00.000Z\n",
       "729         729    6.1            PT0H  2024-12-30T00:00:00.000Z"
      ]
     },
     "execution_count": 7,
     "metadata": {},
     "output_type": "execute_result"
    }
   ],
   "source": [
    "# de siste verdiene\n",
    "wind.tail()"
   ]
  },
  {
   "cell_type": "markdown",
   "id": "2d9469f6",
   "metadata": {},
   "source": [
    "# Manglende verdier"
   ]
  },
  {
   "cell_type": "code",
   "execution_count": 8,
   "id": "7929b15d",
   "metadata": {},
   "outputs": [
    {
     "name": "stdout",
     "output_type": "stream",
     "text": [
      "Unnamed: 0         0\n",
      "verdi              0\n",
      "tidsforskyvning    0\n",
      "referansetid       0\n",
      "dtype: int64\n",
      "Empty DataFrame\n",
      "Columns: [Unnamed: 0, verdi, tidsforskyvning, referansetid]\n",
      "Index: []\n"
     ]
    },
    {
     "data": {
      "image/png": "[encoded data removed]",
      "text/plain": [
       "<Figure size 2500x1000 with 3 Axes>"
      ]
     },
     "metadata": {},
     "output_type": "display_data"
    }
   ],
   "source": [
    "# se om det mangler noen tall i dataen\n",
    "fc.missing_numbers(wind)"
   ]
  },
  {
   "cell_type": "markdown",
   "id": "6e752615",
   "metadata": {},
   "source": [
    "I dette datasettet er det ingen verdier som mangler. "
   ]
  },
  {
   "cell_type": "code",
   "execution_count": 9,
   "id": "d6abd3f9",
   "metadata": {},
   "outputs": [],
   "source": [
    "# Gjøre referansetid om til DateTime\n",
    "wind['referansetid'] = pd.to_datetime(wind['referansetid'])"
   ]
  },
  {
   "cell_type": "markdown",
   "id": "380bb261",
   "metadata": {},
   "source": [
    "# Dataanalyse\n",
    "#### Median"
   ]
  },
  {
   "cell_type": "code",
   "execution_count": 10,
   "id": "d4002d76",
   "metadata": {},
   "outputs": [
    {
     "name": "stdout",
     "output_type": "stream",
     "text": [
      "Medianen er 2.7\n"
     ]
    }
   ],
   "source": [
    "# Medianen av datasettet\n",
    "wind_median = fc.median(wind)"
   ]
  },
  {
   "cell_type": "markdown",
   "id": "b9d131e0",
   "metadata": {},
   "source": [
    "#### Gjennomsnitt"
   ]
  },
  {
   "cell_type": "code",
   "execution_count": 11,
   "id": "394a78d5",
   "metadata": {},
   "outputs": [
    {
     "name": "stdout",
     "output_type": "stream",
     "text": [
      "Gjennomsnittlig verdi for datasettet er 3.04\n"
     ]
    }
   ],
   "source": [
    "# Gjennomsnitt årlig av datasettet\n",
    "avg_year = fc.average_year(wind)"
   ]
  },
  {
   "cell_type": "code",
   "execution_count": 12,
   "id": "b5fa5253",
   "metadata": {},
   "outputs": [
    {
     "name": "stdout",
     "output_type": "stream",
     "text": [
      "måned\n",
      "1     3.34\n",
      "2     3.85\n",
      "3     2.95\n",
      "4     3.13\n",
      "5     2.75\n",
      "6     2.73\n",
      "7     2.28\n",
      "8     2.76\n",
      "9     2.97\n",
      "10    3.29\n",
      "11    3.17\n",
      "12    3.28\n",
      "Name: verdi, dtype: float64\n"
     ]
    }
   ],
   "source": [
    "# Gjennomsnitt månedlig av datasettet\n",
    "avg_moth = fc.average_other(wind)\n",
    "print(avg_moth)"
   ]
  },
  {
   "cell_type": "markdown",
   "id": "e825e12a",
   "metadata": {},
   "source": [
    "#### Standardavvik"
   ]
  },
  {
   "cell_type": "code",
   "execution_count": null,
   "id": "5cd4cf2b",
   "metadata": {},
   "outputs": [
    {
     "name": "stdout",
     "output_type": "stream",
     "text": [
      "Standardavviket er 1.61\n"
     ]
    }
   ],
   "source": [
    "# Standardavvik av datasettet\n",
    "wind_std = fc.std(wind)"
   ]
  },
  {
   "cell_type": "markdown",
   "id": "63ea6e95",
   "metadata": {},
   "source": [
    "# Visualiere data"
   ]
  },
  {
   "cell_type": "code",
   "execution_count": 40,
   "id": "c18dcf81",
   "metadata": {},
   "outputs": [
    {
     "data": {
      "text/plain": [
       "<matplotlib.legend.Legend at 0x1c76c77ffb0>"
      ]
     },
     "execution_count": 40,
     "metadata": {},
     "output_type": "execute_result"
    },
    {
     "data": {
      "image/png": "[encoded data removed]",
      "text/plain": [
       "<Figure size 640x480 with 1 Axes>"
      ]
     },
     "metadata": {},
     "output_type": "display_data"
    }
   ],
   "source": [
    "plt.scatter(wind['referansetid'], wind['verdi'])\n",
    "siste_dato = wind['referansetid'].values[-1]\n",
    "forste_dato = wind['referansetid'].values[0]\n",
    "plt.plot([forste_dato, siste_dato], [avg_year, avg_year], color = 'red')\n",
    "plt.legend([\"Gjennomsnitt\", \"Data vind\"])"
   ]
  },
  {
   "cell_type": "code",
   "execution_count": null,
   "id": "224910ce",
   "metadata": {},
   "outputs": [
    {
     "ename": "TypeError",
     "evalue": "bar() missing 1 required positional argument: 'height'",
     "output_type": "error",
     "traceback": [
      "\u001b[31m---------------------------------------------------------------------------\u001b[39m",
      "\u001b[31mTypeError\u001b[39m                                 Traceback (most recent call last)",
      "\u001b[36mCell\u001b[39m\u001b[36m \u001b[39m\u001b[32mIn[42]\u001b[39m\u001b[32m, line 1\u001b[39m\n\u001b[32m----> \u001b[39m\u001b[32m1\u001b[39m \u001b[43mplt\u001b[49m\u001b[43m.\u001b[49m\u001b[43mbar\u001b[49m\u001b[43m(\u001b[49m\u001b[43mavg_moth\u001b[49m\u001b[43m)\u001b[49m\n",
      "\u001b[31mTypeError\u001b[39m: bar() missing 1 required positional argument: 'height'"
     ]
    }
   ],
   "source": [
    "\n",
    "plt.bar(avg_moth)"
   ]
  },
  {
   "cell_type": "code",
   "execution_count": 41,
   "id": "73422e83",
   "metadata": {},
   "outputs": [],
   "source": [
    "monthly_average = fc.average_other(wind)\n",
    "months = pd.date_range(\"15.01.2024\", \"16.12.2024\", periods=12)\n"
   ]
  },
  {
   "cell_type": "code",
   "execution_count": null,
   "id": "9d57b574",
   "metadata": {},
   "outputs": [
    {
     "data": {
      "text/plain": [
       "<matplotlib.legend.Legend at 0x20665295a90>"
      ]
     },
     "execution_count": 7,
     "metadata": {},
     "output_type": "execute_result"
    },
    {
     "data": {
      "image/png": "[encoded data removed]",
      "text/plain": [
       "<Figure size 640x480 with 1 Axes>"
      ]
     },
     "metadata": {},
     "output_type": "display_data"
    }
   ],
   "source": [
    "plt.bar(wind['referansetid'], wind['verdi'].values)\n",
    "plt.plot(months, monthly_average, color = 'red')\n",
    "plt.legend([\"Måned gjennomsnitt\", \"Vind data\"])"
   ]
  }
 ],
 "metadata": {
  "kernelspec": {
   "display_name": "venv",
   "language": "python",
   "name": "python3"
  },
  "language_info": {
   "codemirror_mode": {
    "name": "ipython",
    "version": 3
   },
   "file_extension": ".py",
   "mimetype": "text/x-python",
   "name": "python",
   "nbconvert_exporter": "python",
   "pygments_lexer": "ipython3",
   "version": "3.12.0"
  }
 },
 "nbformat": 4,
 "nbformat_minor": 5
}
