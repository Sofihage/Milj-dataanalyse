{
 "cells": [
  {
   "cell_type": "code",
   "execution_count": 6,
   "id": "058d81cd",
   "metadata": {},
   "outputs": [],
   "source": [
    "import sys\n",
    "src_path = '..\\\\src'\n",
    "src_path_2 = '..\\\\venv\\\\Lib\\\\site-packages'\n",
    "\n",
    "\n",
    "if src_path not in sys.path:\n",
    "        sys.path.insert(0, src_path)\n",
    "\n",
    "if src_path_2 not in sys.path:\n",
    "        sys.path.insert(0, src_path_2)\n",
    "\n",
    "import pandas as pd\n",
    "import matplotlib.pyplot as plt\n",
    "import numpy as np\n",
    "import plotly.express as px\n",
    "import plotly.express as px\n",
    "import seaborn as sns\n",
    "\n",
    "from pandasql import sqldf\n",
    "from sklearn.metrics import mean_squared_error\n",
    "\n",
    "# Alle funskjonene ligger i en felles fil\n",
    "import functions as fc"
   ]
  },
  {
   "cell_type": "markdown",
   "id": "f7639833",
   "metadata": {},
   "source": [
    "# Forberedelser\n",
    "### Last ned datasettet"
   ]
  },
  {
   "cell_type": "code",
   "execution_count": 7,
   "id": "9b94a9c4",
   "metadata": {},
   "outputs": [
    {
     "data": {
      "text/html": [
       "<div>\n",
       "<style scoped>\n",
       "    .dataframe tbody tr th:only-of-type {\n",
       "        vertical-align: middle;\n",
       "    }\n",
       "\n",
       "    .dataframe tbody tr th {\n",
       "        vertical-align: top;\n",
       "    }\n",
       "\n",
       "    .dataframe thead th {\n",
       "        text-align: right;\n",
       "    }\n",
       "</style>\n",
       "<table border=\"1\" class=\"dataframe\">\n",
       "  <thead>\n",
       "    <tr style=\"text-align: right;\">\n",
       "      <th></th>\n",
       "      <th>verdi</th>\n",
       "      <th>tidsforskyvning</th>\n",
       "      <th>referansetid</th>\n",
       "    </tr>\n",
       "  </thead>\n",
       "  <tbody>\n",
       "    <tr>\n",
       "      <th>0</th>\n",
       "      <td>6.9</td>\n",
       "      <td>PT0H</td>\n",
       "      <td>2024-01-01T00:00:00.000Z</td>\n",
       "    </tr>\n",
       "    <tr>\n",
       "      <th>1</th>\n",
       "      <td>6.3</td>\n",
       "      <td>PT0H</td>\n",
       "      <td>2024-01-02T00:00:00.000Z</td>\n",
       "    </tr>\n",
       "    <tr>\n",
       "      <th>2</th>\n",
       "      <td>5.4</td>\n",
       "      <td>PT0H</td>\n",
       "      <td>2024-01-03T00:00:00.000Z</td>\n",
       "    </tr>\n",
       "    <tr>\n",
       "      <th>3</th>\n",
       "      <td>4.8</td>\n",
       "      <td>PT0H</td>\n",
       "      <td>2024-01-04T00:00:00.000Z</td>\n",
       "    </tr>\n",
       "    <tr>\n",
       "      <th>4</th>\n",
       "      <td>1.9</td>\n",
       "      <td>PT0H</td>\n",
       "      <td>2024-01-05T00:00:00.000Z</td>\n",
       "    </tr>\n",
       "  </tbody>\n",
       "</table>\n",
       "</div>"
      ],
      "text/plain": [
       "   verdi tidsforskyvning              referansetid\n",
       "0    6.9            PT0H  2024-01-01T00:00:00.000Z\n",
       "1    6.3            PT0H  2024-01-02T00:00:00.000Z\n",
       "2    5.4            PT0H  2024-01-03T00:00:00.000Z\n",
       "3    4.8            PT0H  2024-01-04T00:00:00.000Z\n",
       "4    1.9            PT0H  2024-01-05T00:00:00.000Z"
      ]
     },
     "execution_count": 7,
     "metadata": {},
     "output_type": "execute_result"
    }
   ],
   "source": [
    "# Hente frem datasettet og kaller det wind\n",
    "try: \n",
    "    wind = pd.read_csv('../data/wind.csv')\n",
    "except FileNotFoundError:\n",
    "    print('Fila finnes ikke')\n",
    "\n",
    "# Dobbelskjekket at dataen har kommet\n",
    "wind.head()"
   ]
  },
  {
   "cell_type": "markdown",
   "id": "8500c296",
   "metadata": {},
   "source": [
    "Datasettet er lastet ned og vi vet at den har kommet, på grunn av at vi kan se de første 5 linjene."
   ]
  },
  {
   "cell_type": "markdown",
   "id": "cf6d96e6",
   "metadata": {},
   "source": [
    "# Forstå data\n",
    "Se hvilke datatyper vi har og blir mere kjent med datasettet, for å gjøre det lettere å jobbe med."
   ]
  },
  {
   "cell_type": "code",
   "execution_count": 8,
   "id": "68a1c06b",
   "metadata": {},
   "outputs": [
    {
     "name": "stdout",
     "output_type": "stream",
     "text": [
      "<class 'pandas.core.frame.DataFrame'>\n",
      "RangeIndex: 732 entries, 0 to 731\n",
      "Data columns (total 3 columns):\n",
      " #   Column           Non-Null Count  Dtype  \n",
      "---  ------           --------------  -----  \n",
      " 0   verdi            732 non-null    float64\n",
      " 1   tidsforskyvning  732 non-null    object \n",
      " 2   referansetid     732 non-null    object \n",
      "dtypes: float64(1), object(2)\n",
      "memory usage: 17.3+ KB\n"
     ]
    }
   ],
   "source": [
    "# Skjekker hvilke datatype refaransetid er\n",
    "wind.info()"
   ]
  },
  {
   "cell_type": "markdown",
   "id": "32683bde",
   "metadata": {},
   "source": [
    "I dette datasettet har vi integer, float og object som vi vet er string."
   ]
  },
  {
   "cell_type": "code",
   "execution_count": 9,
   "id": "834b7521",
   "metadata": {},
   "outputs": [
    {
     "name": "stdout",
     "output_type": "stream",
     "text": [
      "type: <class 'pandas.core.frame.DataFrame'>\n",
      "shape: (732, 3)\n"
     ]
    }
   ],
   "source": [
    "# Forstå dataen\n",
    "print('type:', type(wind))\n",
    "print('shape:', wind.shape)"
   ]
  },
  {
   "cell_type": "markdown",
   "id": "29ffbe82",
   "metadata": {},
   "source": [
    "### Verdier"
   ]
  },
  {
   "cell_type": "code",
   "execution_count": 10,
   "id": "a0209fb0",
   "metadata": {},
   "outputs": [
    {
     "name": "stdout",
     "output_type": "stream",
     "text": [
      "Den minste verdien er 0.6\n",
      "Den største verdien er 11.4\n"
     ]
    }
   ],
   "source": [
    "# Den minste og største verdien\n",
    "print('Den minste verdien er', wind['verdi'].min())\n",
    "print('Den største verdien er', wind['verdi'].max())"
   ]
  },
  {
   "cell_type": "code",
   "execution_count": 11,
   "id": "a68d3e03",
   "metadata": {},
   "outputs": [
    {
     "data": {
      "text/html": [
       "<div>\n",
       "<style scoped>\n",
       "    .dataframe tbody tr th:only-of-type {\n",
       "        vertical-align: middle;\n",
       "    }\n",
       "\n",
       "    .dataframe tbody tr th {\n",
       "        vertical-align: top;\n",
       "    }\n",
       "\n",
       "    .dataframe thead th {\n",
       "        text-align: right;\n",
       "    }\n",
       "</style>\n",
       "<table border=\"1\" class=\"dataframe\">\n",
       "  <thead>\n",
       "    <tr style=\"text-align: right;\">\n",
       "      <th></th>\n",
       "      <th>verdi</th>\n",
       "      <th>tidsforskyvning</th>\n",
       "      <th>referansetid</th>\n",
       "    </tr>\n",
       "  </thead>\n",
       "  <tbody>\n",
       "    <tr>\n",
       "      <th>532</th>\n",
       "      <td>2.3</td>\n",
       "      <td>PT0H</td>\n",
       "      <td>2024-06-15T00:00:00.000Z</td>\n",
       "    </tr>\n",
       "    <tr>\n",
       "      <th>216</th>\n",
       "      <td>1.5</td>\n",
       "      <td>PT0H</td>\n",
       "      <td>2024-08-04T00:00:00.000Z</td>\n",
       "    </tr>\n",
       "    <tr>\n",
       "      <th>217</th>\n",
       "      <td>2.1</td>\n",
       "      <td>PT0H</td>\n",
       "      <td>2024-08-05T00:00:00.000Z</td>\n",
       "    </tr>\n",
       "    <tr>\n",
       "      <th>659</th>\n",
       "      <td>3.0</td>\n",
       "      <td>PT0H</td>\n",
       "      <td>2024-10-20T00:00:00.000Z</td>\n",
       "    </tr>\n",
       "    <tr>\n",
       "      <th>29</th>\n",
       "      <td>0.9</td>\n",
       "      <td>PT0H</td>\n",
       "      <td>2024-01-30T00:00:00.000Z</td>\n",
       "    </tr>\n",
       "    <tr>\n",
       "      <th>331</th>\n",
       "      <td>4.0</td>\n",
       "      <td>PT0H</td>\n",
       "      <td>2024-11-27T00:00:00.000Z</td>\n",
       "    </tr>\n",
       "    <tr>\n",
       "      <th>349</th>\n",
       "      <td>2.1</td>\n",
       "      <td>PT0H</td>\n",
       "      <td>2024-12-15T00:00:00.000Z</td>\n",
       "    </tr>\n",
       "    <tr>\n",
       "      <th>512</th>\n",
       "      <td>3.0</td>\n",
       "      <td>PT0H</td>\n",
       "      <td>2024-05-26T00:00:00.000Z</td>\n",
       "    </tr>\n",
       "    <tr>\n",
       "      <th>388</th>\n",
       "      <td>3.0</td>\n",
       "      <td>PT0H</td>\n",
       "      <td>2024-01-23T00:00:00.000Z</td>\n",
       "    </tr>\n",
       "    <tr>\n",
       "      <th>653</th>\n",
       "      <td>5.0</td>\n",
       "      <td>PT0H</td>\n",
       "      <td>2024-10-14T00:00:00.000Z</td>\n",
       "    </tr>\n",
       "  </tbody>\n",
       "</table>\n",
       "</div>"
      ],
      "text/plain": [
       "     verdi tidsforskyvning              referansetid\n",
       "532    2.3            PT0H  2024-06-15T00:00:00.000Z\n",
       "216    1.5            PT0H  2024-08-04T00:00:00.000Z\n",
       "217    2.1            PT0H  2024-08-05T00:00:00.000Z\n",
       "659    3.0            PT0H  2024-10-20T00:00:00.000Z\n",
       "29     0.9            PT0H  2024-01-30T00:00:00.000Z\n",
       "331    4.0            PT0H  2024-11-27T00:00:00.000Z\n",
       "349    2.1            PT0H  2024-12-15T00:00:00.000Z\n",
       "512    3.0            PT0H  2024-05-26T00:00:00.000Z\n",
       "388    3.0            PT0H  2024-01-23T00:00:00.000Z\n",
       "653    5.0            PT0H  2024-10-14T00:00:00.000Z"
      ]
     },
     "execution_count": 11,
     "metadata": {},
     "output_type": "execute_result"
    }
   ],
   "source": [
    "# 10 tilfelige verdier\n",
    "wind.sample(10)"
   ]
  },
  {
   "cell_type": "code",
   "execution_count": 12,
   "id": "2b7e6d43",
   "metadata": {},
   "outputs": [
    {
     "data": {
      "text/html": [
       "<div>\n",
       "<style scoped>\n",
       "    .dataframe tbody tr th:only-of-type {\n",
       "        vertical-align: middle;\n",
       "    }\n",
       "\n",
       "    .dataframe tbody tr th {\n",
       "        vertical-align: top;\n",
       "    }\n",
       "\n",
       "    .dataframe thead th {\n",
       "        text-align: right;\n",
       "    }\n",
       "</style>\n",
       "<table border=\"1\" class=\"dataframe\">\n",
       "  <thead>\n",
       "    <tr style=\"text-align: right;\">\n",
       "      <th></th>\n",
       "      <th>verdi</th>\n",
       "      <th>tidsforskyvning</th>\n",
       "      <th>referansetid</th>\n",
       "    </tr>\n",
       "  </thead>\n",
       "  <tbody>\n",
       "    <tr>\n",
       "      <th>727</th>\n",
       "      <td>4.3</td>\n",
       "      <td>PT0H</td>\n",
       "      <td>2024-12-27T00:00:00.000Z</td>\n",
       "    </tr>\n",
       "    <tr>\n",
       "      <th>728</th>\n",
       "      <td>6.2</td>\n",
       "      <td>PT0H</td>\n",
       "      <td>2024-12-28T00:00:00.000Z</td>\n",
       "    </tr>\n",
       "    <tr>\n",
       "      <th>729</th>\n",
       "      <td>6.2</td>\n",
       "      <td>PT0H</td>\n",
       "      <td>2024-12-29T00:00:00.000Z</td>\n",
       "    </tr>\n",
       "    <tr>\n",
       "      <th>730</th>\n",
       "      <td>6.1</td>\n",
       "      <td>PT0H</td>\n",
       "      <td>2024-12-30T00:00:00.000Z</td>\n",
       "    </tr>\n",
       "    <tr>\n",
       "      <th>731</th>\n",
       "      <td>4.4</td>\n",
       "      <td>PT0H</td>\n",
       "      <td>2024-12-31T00:00:00.000Z</td>\n",
       "    </tr>\n",
       "  </tbody>\n",
       "</table>\n",
       "</div>"
      ],
      "text/plain": [
       "     verdi tidsforskyvning              referansetid\n",
       "727    4.3            PT0H  2024-12-27T00:00:00.000Z\n",
       "728    6.2            PT0H  2024-12-28T00:00:00.000Z\n",
       "729    6.2            PT0H  2024-12-29T00:00:00.000Z\n",
       "730    6.1            PT0H  2024-12-30T00:00:00.000Z\n",
       "731    4.4            PT0H  2024-12-31T00:00:00.000Z"
      ]
     },
     "execution_count": 12,
     "metadata": {},
     "output_type": "execute_result"
    }
   ],
   "source": [
    "# De siste verdiene\n",
    "wind.tail()"
   ]
  },
  {
   "cell_type": "markdown",
   "id": "2d9469f6",
   "metadata": {},
   "source": [
    "# Manglende verdier"
   ]
  },
  {
   "cell_type": "markdown",
   "id": "129f242a",
   "metadata": {},
   "source": [
    "I denne delen skal vi se om datasettet mangler noen verdier."
   ]
  },
  {
   "cell_type": "code",
   "execution_count": 13,
   "id": "7929b15d",
   "metadata": {},
   "outputs": [
    {
     "name": "stdout",
     "output_type": "stream",
     "text": [
      "verdi              0\n",
      "tidsforskyvning    0\n",
      "referansetid       0\n",
      "dtype: int64\n"
     ]
    },
    {
     "name": "stdout",
     "output_type": "stream",
     "text": [
      "Empty DataFrame\n",
      "Columns: [verdi, tidsforskyvning, referansetid]\n",
      "Index: []\n"
     ]
    },
    {
     "data": {
      "image/png": "[encoded data removed]",
      "text/plain": [
       "<Figure size 2500x1000 with 3 Axes>"
      ]
     },
     "metadata": {},
     "output_type": "display_data"
    }
   ],
   "source": [
    "# Se om det mangler noen tall i dataen\n",
    "fc.missing_numbers(wind)"
   ]
  },
  {
   "cell_type": "markdown",
   "id": "6e752615",
   "metadata": {},
   "source": [
    "I dette datasettet er det ingen verdier som mangler."
   ]
  },
  {
   "cell_type": "code",
   "execution_count": 14,
   "id": "d6abd3f9",
   "metadata": {},
   "outputs": [],
   "source": [
    "# Gjøre referansetid om til DateTime\n",
    "wind['referansetid'] = pd.to_datetime(wind['referansetid'])"
   ]
  },
  {
   "cell_type": "markdown",
   "id": "91e25dad",
   "metadata": {},
   "source": [
    "### Ekstreme verdier"
   ]
  },
  {
   "cell_type": "markdown",
   "id": "e7e7b677",
   "metadata": {},
   "source": [
    "Ekstreme verdier kan påvirke datasettet når det skal trenes opp til å gi en prognose om været senere, derfor kan det være lurt å fjerne de ekstreme verdiene."
   ]
  },
  {
   "cell_type": "code",
   "execution_count": 15,
   "id": "74862dbe",
   "metadata": {},
   "outputs": [
    {
     "name": "stdout",
     "output_type": "stream",
     "text": [
      "Gjennomsnittlig verdi for datasettet er 3.04\n",
      "Standardavviket er 1.61\n",
      "     verdi tidsforskyvning              referansetid\n",
      "392    8.2            PT0H 2024-01-27 00:00:00+00:00\n",
      "394   11.1            PT0H 2024-01-29 00:00:00+00:00\n",
      "395    9.1            PT0H 2024-01-30 00:00:00+00:00\n",
      "410    9.0            PT0H 2024-02-14 00:00:00+00:00\n",
      "411    8.1            PT0H 2024-02-15 00:00:00+00:00\n",
      "420   11.4            PT0H 2024-02-24 00:00:00+00:00\n",
      "423    8.6            PT0H 2024-02-27 00:00:00+00:00\n",
      "424   10.3            PT0H 2024-02-28 00:00:00+00:00\n",
      "425    8.5            PT0H 2024-02-29 00:00:00+00:00\n",
      "426    9.5            PT0H 2024-03-01 00:00:00+00:00\n",
      "651    8.7            PT0H 2024-10-12 00:00:00+00:00\n",
      "652    8.0            PT0H 2024-10-13 00:00:00+00:00\n",
      "664    8.5            PT0H 2024-10-25 00:00:00+00:00\n",
      "698    7.9            PT0H 2024-11-28 00:00:00+00:00\n",
      "725    8.4            PT0H 2024-12-25 00:00:00+00:00\n"
     ]
    },
    {
     "data": {
      "image/png": "[encoded data removed]",
      "text/plain": [
       "<Figure size 500x500 with 1 Axes>"
      ]
     },
     "metadata": {},
     "output_type": "display_data"
    }
   ],
   "source": [
    "# Nedre og øvre grense av datasettet med standardavik\n",
    "lower_limit, upper_limit = fc.lower_upper_limit(wind)\n",
    "\n",
    "# Print verdiene som ikke er mellom lower_limit og upper_limit\n",
    "outliers = wind[wind['verdi'].between(lower_limit, upper_limit) == False]\n",
    "print(outliers)\n",
    "\n",
    "# Lag et søylediagram med linjer som viser lower_limit og upper_limit\n",
    "plot = sns.displot(data=wind['verdi']).set(title='Fordeling av vind', xlabel='Vind')\n",
    "for ax in plot.axes.flat:\n",
    "    ax.axvline(lower_limit, color='r', linestyle = '--', label='Lower Limit')\n",
    "    ax.axvline(upper_limit, color='r', linestyle = '--', label='Upper Limit')"
   ]
  },
  {
   "cell_type": "markdown",
   "id": "aad83d0d",
   "metadata": {},
   "source": [
    "Innenfor linjene er det 99% av datasettet, dette er verdiene som ikke regnes som ekstreme. "
   ]
  },
  {
   "cell_type": "code",
   "execution_count": 16,
   "id": "d478567f",
   "metadata": {},
   "outputs": [
    {
     "name": "stdout",
     "output_type": "stream",
     "text": [
      "referansetid er gjort om til DateTime\n"
     ]
    }
   ],
   "source": [
    "date = fc.make_datetime(wind)"
   ]
  },
  {
   "cell_type": "code",
   "execution_count": 17,
   "id": "d83d4cb5",
   "metadata": {},
   "outputs": [
    {
     "name": "stdout",
     "output_type": "stream",
     "text": [
      "[8.2, 11.1, 9.1, 9.0, 8.1, 11.4, 8.6, 10.3, 8.5, 9.5, 8.7, 8.0, 8.5, 7.9, 8.4]\n",
      "Den minste verdien er: 0.6\n",
      "Den høyeste verdien er: 7.6\n"
     ]
    },
    {
     "data": {
      "image/png": "[encoded data removed]",
      "text/plain": [
       "<Figure size 640x480 with 1 Axes>"
      ]
     },
     "metadata": {},
     "output_type": "display_data"
    }
   ],
   "source": [
    "# Lag en liste\n",
    "remove = []\n",
    "# Putt verdiene utenfor linjene i listen\n",
    "for i in outliers['verdi']:\n",
    "    remove.append(i)\n",
    "print(remove)\n",
    "\n",
    "\n",
    "wind['verdi'] = wind['verdi'].replace(remove, np.nan)\n",
    "\n",
    "# Print den minste og høyeste verdien etter at de ekstreme verdiene har blitt fjernet\n",
    "print('Den minste verdien er:', wind['verdi'].min())\n",
    "print('Den høyeste verdien er:', wind['verdi'].max())\n",
    "\n",
    "# Lag en diagram med de nye veridene\n",
    "plt.scatter(date, wind['verdi'], label='Vind', s=5)\n",
    "plt.xlabel('Dato')\n",
    "plt.ylabel('Vind')\n",
    "plt.title('Vind for 2024')\n",
    "plt.legend()\n",
    "plt.show()"
   ]
  },
  {
   "cell_type": "markdown",
   "id": "5f4be6bd",
   "metadata": {},
   "source": [
    "I dette nye diagrammet er det ingen verdier under 0,6 og ingen over 7,6. "
   ]
  },
  {
   "cell_type": "code",
   "execution_count": 18,
   "id": "dde13fbe",
   "metadata": {},
   "outputs": [
    {
     "name": "stdout",
     "output_type": "stream",
     "text": [
      "verdi              15\n",
      "tidsforskyvning     0\n",
      "referansetid        0\n",
      "dtype: int64\n",
      "     verdi tidsforskyvning              referansetid\n",
      "392    NaN            PT0H 2024-01-27 00:00:00+00:00\n",
      "394    NaN            PT0H 2024-01-29 00:00:00+00:00\n",
      "395    NaN            PT0H 2024-01-30 00:00:00+00:00\n",
      "410    NaN            PT0H 2024-02-14 00:00:00+00:00\n",
      "411    NaN            PT0H 2024-02-15 00:00:00+00:00\n",
      "420    NaN            PT0H 2024-02-24 00:00:00+00:00\n",
      "423    NaN            PT0H 2024-02-27 00:00:00+00:00\n",
      "424    NaN            PT0H 2024-02-28 00:00:00+00:00\n",
      "425    NaN            PT0H 2024-02-29 00:00:00+00:00\n",
      "426    NaN            PT0H 2024-03-01 00:00:00+00:00\n",
      "651    NaN            PT0H 2024-10-12 00:00:00+00:00\n",
      "652    NaN            PT0H 2024-10-13 00:00:00+00:00\n",
      "664    NaN            PT0H 2024-10-25 00:00:00+00:00\n",
      "698    NaN            PT0H 2024-11-28 00:00:00+00:00\n",
      "725    NaN            PT0H 2024-12-25 00:00:00+00:00\n"
     ]
    },
    {
     "data": {
      "image/png": "[encoded data removed]",
      "text/plain": [
       "<Figure size 2500x1000 with 3 Axes>"
      ]
     },
     "metadata": {},
     "output_type": "display_data"
    }
   ],
   "source": [
    "# Skjekker om det mangler verdier\n",
    "fc.missing_numbers(wind)"
   ]
  },
  {
   "cell_type": "markdown",
   "id": "ba308a78",
   "metadata": {},
   "source": [
    "Siden de ekstreme verdiene ble fjernet mangler det nå 15 verdier i datasettet. For at datasettet skal ha verdier på alle dagene må verdiene fylles."
   ]
  },
  {
   "cell_type": "code",
   "execution_count": 19,
   "id": "9f6bf7c7",
   "metadata": {},
   "outputs": [
    {
     "name": "stderr",
     "output_type": "stream",
     "text": [
      "C:\\Users\\sofie\\AppData\\Local\\Temp\\ipykernel_13932\\1731849347.py:2: FutureWarning: A value is trying to be set on a copy of a DataFrame or Series through chained assignment using an inplace method.\n",
      "The behavior will change in pandas 3.0. This inplace method will never work because the intermediate object on which we are setting values always behaves as a copy.\n",
      "\n",
      "For example, when doing 'df[col].method(value, inplace=True)', try using 'df.method({col: value}, inplace=True)' or df[col] = df[col].method(value) instead, to perform the operation inplace on the original object.\n",
      "\n",
      "\n",
      "  add_data = wind['verdi'].fillna(method='ffill', inplace=True)\n",
      "C:\\Users\\sofie\\AppData\\Local\\Temp\\ipykernel_13932\\1731849347.py:2: FutureWarning: Series.fillna with 'method' is deprecated and will raise in a future version. Use obj.ffill() or obj.bfill() instead.\n",
      "  add_data = wind['verdi'].fillna(method='ffill', inplace=True)\n"
     ]
    },
    {
     "name": "stdout",
     "output_type": "stream",
     "text": [
      "verdi              0\n",
      "tidsforskyvning    0\n",
      "referansetid       0\n",
      "dtype: int64\n",
      "Empty DataFrame\n",
      "Columns: [verdi, tidsforskyvning, referansetid]\n",
      "Index: []\n"
     ]
    },
    {
     "data": {
      "image/png": "[encoded data removed]",
      "text/plain": [
       "<Figure size 2500x1000 with 3 Axes>"
      ]
     },
     "metadata": {},
     "output_type": "display_data"
    }
   ],
   "source": [
    "# Fyller de manglende verdiene\n",
    "add_data = wind['verdi'].fillna(method='ffill', inplace=True)\n",
    "\n",
    "# Skjekker at det ikke mangler noen verdier\n",
    "fc.missing_numbers(wind)"
   ]
  },
  {
   "cell_type": "markdown",
   "id": "7f8d238a",
   "metadata": {},
   "source": [
    "Nå mangler det ingen verdier og datasettet er mere stabil for fremtidig forskning. "
   ]
  },
  {
   "cell_type": "code",
   "execution_count": 20,
   "id": "2c3c7bcd",
   "metadata": {},
   "outputs": [
    {
     "name": "stdout",
     "output_type": "stream",
     "text": [
      "referansetid er gjort om til DateTime\n"
     ]
    }
   ],
   "source": [
    "# Lager en csv fil av datasettet uten ekstreme verdier\n",
    "wind.to_csv('../data/clean_wind.csv', index=False)\n",
    "\n",
    "# Laster ned dataen og kaller den clean_wind\n",
    "try: \n",
    "    clean_wind = pd.read_csv('../data/clean_wind.csv')\n",
    "except FileNotFoundError:\n",
    "    print('Fila finnes ikke')\n",
    "\n",
    "# Gjør referansetid om til DateTime\n",
    "date = fc.make_datetime(clean_wind)"
   ]
  },
  {
   "cell_type": "markdown",
   "id": "380bb261",
   "metadata": {},
   "source": [
    "# Dataanalyse\n",
    "Denne analysen skal gi grunnlaget for videre visualisering og predektiv analyse.\n",
    "#### Median"
   ]
  },
  {
   "cell_type": "code",
   "execution_count": 21,
   "id": "d4002d76",
   "metadata": {},
   "outputs": [
    {
     "name": "stdout",
     "output_type": "stream",
     "text": [
      "Medianen er 2.7\n"
     ]
    }
   ],
   "source": [
    "# Medianen av datasettet\n",
    "wind_median = fc.median(clean_wind)"
   ]
  },
  {
   "cell_type": "markdown",
   "id": "b9d131e0",
   "metadata": {},
   "source": [
    "#### Gjennomsnitt"
   ]
  },
  {
   "cell_type": "code",
   "execution_count": 22,
   "id": "394a78d5",
   "metadata": {},
   "outputs": [
    {
     "name": "stdout",
     "output_type": "stream",
     "text": [
      "Gjennomsnittlig verdi for datasettet er 2.96\n"
     ]
    }
   ],
   "source": [
    "# Gjennomsnitt årlig av datasettet\n",
    "avg_year = fc.average_year(clean_wind)"
   ]
  },
  {
   "cell_type": "code",
   "execution_count": 23,
   "id": "b5fa5253",
   "metadata": {},
   "outputs": [
    {
     "name": "stdout",
     "output_type": "stream",
     "text": [
      "måned\n",
      "1     3.17\n",
      "2     3.41\n",
      "3     2.89\n",
      "4     3.13\n",
      "5     2.75\n",
      "6     2.73\n",
      "7     2.28\n",
      "8     2.76\n",
      "9     2.97\n",
      "10    3.07\n",
      "11    3.13\n",
      "12    3.24\n",
      "Name: verdi, dtype: float64\n"
     ]
    }
   ],
   "source": [
    "# Gjennomsnitt månedlig av datasettet\n",
    "avg_moth = fc.average_other(clean_wind)\n",
    "print(avg_moth)"
   ]
  },
  {
   "cell_type": "markdown",
   "id": "e825e12a",
   "metadata": {},
   "source": [
    "#### Standardavvik"
   ]
  },
  {
   "cell_type": "code",
   "execution_count": 24,
   "id": "5cd4cf2b",
   "metadata": {},
   "outputs": [
    {
     "name": "stdout",
     "output_type": "stream",
     "text": [
      "Standardavviket er 1.39\n"
     ]
    }
   ],
   "source": [
    "# Standardavvik av datasettet\n",
    "wind_std = fc.std(clean_wind)"
   ]
  },
  {
   "cell_type": "markdown",
   "id": "63ea6e95",
   "metadata": {},
   "source": [
    "# Visualisere data"
   ]
  },
  {
   "cell_type": "markdown",
   "id": "98c2a060",
   "metadata": {},
   "source": [
    "Vi visualiserer dataen for å gjøre det lettere å forstå dataanalysen og datasettet"
   ]
  },
  {
   "cell_type": "code",
   "execution_count": 25,
   "id": "c18dcf81",
   "metadata": {},
   "outputs": [
    {
     "data": {
      "text/plain": [
       "<matplotlib.legend.Legend at 0x26550b591d0>"
      ]
     },
     "execution_count": 25,
     "metadata": {},
     "output_type": "execute_result"
    },
    {
     "data": {
      "image/png": "[encoded data removed]",
      "text/plain": [
       "<Figure size 640x480 with 1 Axes>"
      ]
     },
     "metadata": {},
     "output_type": "display_data"
    }
   ],
   "source": [
    "plt.scatter(clean_wind['referansetid'], clean_wind['verdi'], color = 'olivedrab', label = 'Data vind')\n",
    "\n",
    "plt.xlabel('Dato')\n",
    "plt.ylabel('m/s')\n",
    "plt.title('Vind 2024-2025')\n",
    "plt.legend()"
   ]
  },
  {
   "cell_type": "markdown",
   "id": "14755e60",
   "metadata": {},
   "source": [
    "I denne grafen kan vi se at det regner mest rundt februar og minst rundt juli, men dette kan visualiseres tydligere ved å definere månedende og finne måendtlig gjennomsnitt. "
   ]
  },
  {
   "cell_type": "code",
   "execution_count": 26,
   "id": "b042652f",
   "metadata": {},
   "outputs": [],
   "source": [
    "months = ['Jan', 'Feb', 'Mar', 'Apr', 'Mai', 'Jun', 'Jul', 'Aug', 'Sep', 'Okt', 'Nov', 'Des']"
   ]
  },
  {
   "cell_type": "code",
   "execution_count": 27,
   "id": "9a4e3413",
   "metadata": {},
   "outputs": [
    {
     "data": {
      "text/plain": [
       "<matplotlib.legend.Legend at 0x26550be91d0>"
      ]
     },
     "execution_count": 27,
     "metadata": {},
     "output_type": "execute_result"
    },
    {
     "data": {
      "image/png": "[encoded data removed]",
      "text/plain": [
       "<Figure size 640x480 with 1 Axes>"
      ]
     },
     "metadata": {},
     "output_type": "display_data"
    }
   ],
   "source": [
    "plt.bar(months, avg_moth, color = 'olivedrab', label = 'Data vind')\n",
    "\n",
    "plt.xlabel('Måned')\n",
    "plt.ylabel('m/s')\n",
    "plt.title('Gjennomsnittlig vind 2024')\n",
    "plt.legend()"
   ]
  },
  {
   "cell_type": "markdown",
   "id": "25cd9963",
   "metadata": {},
   "source": [
    "Ved å finne gjennomsnittet av hver måned kan vi med sikkerhet si at det er mest vind i februar og minst vind i juli. "
   ]
  },
  {
   "cell_type": "code",
   "execution_count": 28,
   "id": "10ed8790",
   "metadata": {},
   "outputs": [
    {
     "data": {
      "text/plain": [
       "<matplotlib.legend.Legend at 0x2654e77f890>"
      ]
     },
     "execution_count": 28,
     "metadata": {},
     "output_type": "execute_result"
    },
    {
     "data": {
      "image/png": "[encoded data removed]",
      "text/plain": [
       "<Figure size 640x480 with 1 Axes>"
      ]
     },
     "metadata": {},
     "output_type": "display_data"
    }
   ],
   "source": [
    "plt.plot(months, avg_moth, color = 'olivedrab', label = 'Gjennomsnittlig måned')\n",
    "plt.plot(months, avg_year*np.ones(len(months)), color = 'palevioletred', label = 'Gjennomsnittlig årlig')\n",
    "plt.plot(months, wind_median*np.ones(len(months)), color = 'steelblue', label = 'Median årlig')\n",
    "\n",
    "plt.xlabel('Måned')\n",
    "plt.ylabel('m/s')\n",
    "plt.title('Gjennomsnittlig vind 2024')\n",
    "plt.legend()"
   ]
  },
  {
   "cell_type": "markdown",
   "id": "76663130",
   "metadata": {},
   "source": [
    "I denne grafen er det også lagt inn årlig gjennomsitt og medianen av vind. Da kan vi se at det er i mars, mai og september det blåser likest med det årlige gjennomsnittet. Det er i juli og august det er likest med medianen. "
   ]
  },
  {
   "cell_type": "code",
   "execution_count": 29,
   "id": "a6d7967c",
   "metadata": {},
   "outputs": [
    {
     "data": {
      "application/vnd.plotly.v1+json": {
       "config": {
        "plotlyServerURL": "https://plot.ly"
       },
       "data": [
        {
         "hovertemplate": "referansetid=%{x}<br>verdi=%{marker.color}<extra></extra>",
         "legendgroup": "",
         "marker": {
          "color": {
           "bdata": "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",
           "dtype": "f8"
          },
          "coloraxis": "coloraxis",
          "symbol": "circle"
         },
         "mode": "markers",
         "name": "",
         "orientation": "v",
         "showlegend": false,
         "type": "scatter",
         "x": [
          "2024-01-01T00:00:00.000000000",
          "2024-01-02T00:00:00.000000000",
          "2024-01-03T00:00:00.000000000",
          "2024-01-04T00:00:00.000000000",
          "2024-01-05T00:00:00.000000000",
          "2024-01-06T00:00:00.000000000",
          "2024-01-07T00:00:00.000000000",
          "2024-01-08T00:00:00.000000000",
          "2024-01-09T00:00:00.000000000",
          "2024-01-10T00:00:00.000000000",
          "2024-01-11T00:00:00.000000000",
          "2024-01-12T00:00:00.000000000",
          "2024-01-13T00:00:00.000000000",
          "2024-01-14T00:00:00.000000000",
          "2024-01-15T00:00:00.000000000",
          "2024-01-16T00:00:00.000000000",
          "2024-01-17T00:00:00.000000000",
          "2024-01-18T00:00:00.000000000",
          "2024-01-19T00:00:00.000000000",
          "2024-01-20T00:00:00.000000000",
          "2024-01-21T00:00:00.000000000",
          "2024-01-22T00:00:00.000000000",
          "2024-01-23T00:00:00.000000000",
          "2024-01-24T00:00:00.000000000",
          "2024-01-25T00:00:00.000000000",
          "2024-01-26T00:00:00.000000000",
          "2024-01-27T00:00:00.000000000",
          "2024-01-28T00:00:00.000000000",
          "2024-01-29T00:00:00.000000000",
          "2024-01-30T00:00:00.000000000",
          "2024-01-31T00:00:00.000000000",
          "2024-02-01T00:00:00.000000000",
          "2024-02-02T00:00:00.000000000",
          "2024-02-03T00:00:00.000000000",
          "2024-02-04T00:00:00.000000000",
          "2024-02-05T00:00:00.000000000",
          "2024-02-06T00:00:00.000000000",
          "2024-02-07T00:00:00.000000000",
          "2024-02-08T00:00:00.000000000",
          "2024-02-09T00:00:00.000000000",
          "2024-02-10T00:00:00.000000000",
          "2024-02-11T00:00:00.000000000",
          "2024-02-12T00:00:00.000000000",
          "2024-02-13T00:00:00.000000000",
          "2024-02-14T00:00:00.000000000",
          "2024-02-15T00:00:00.000000000",
          "2024-02-16T00:00:00.000000000",
          "2024-02-17T00:00:00.000000000",
          "2024-02-18T00:00:00.000000000",
          "2024-02-19T00:00:00.000000000",
          "2024-02-20T00:00:00.000000000",
          "2024-02-21T00:00:00.000000000",
          "2024-02-22T00:00:00.000000000",
          "2024-02-23T00:00:00.000000000",
          "2024-02-24T00:00:00.000000000",
          "2024-02-25T00:00:00.000000000",
          "2024-02-26T00:00:00.000000000",
          "2024-02-27T00:00:00.000000000",
          "2024-02-28T00:00:00.000000000",
          "2024-02-29T00:00:00.000000000",
          "2024-03-01T00:00:00.000000000",
          "2024-03-02T00:00:00.000000000",
          "2024-03-03T00:00:00.000000000",
          "2024-03-04T00:00:00.000000000",
          "2024-03-05T00:00:00.000000000",
          "2024-03-06T00:00:00.000000000",
          "2024-03-07T00:00:00.000000000",
          "2024-03-08T00:00:00.000000000",
          "2024-03-09T00:00:00.000000000",
          "2024-03-10T00:00:00.000000000",
          "2024-03-11T00:00:00.000000000",
          "2024-03-12T00:00:00.000000000",
          "2024-03-13T00:00:00.000000000",
          "2024-03-14T00:00:00.000000000",
          "2024-03-15T00:00:00.000000000",
          "2024-03-16T00:00:00.000000000",
          "2024-03-17T00:00:00.000000000",
          "2024-03-18T00:00:00.000000000",
          "2024-03-19T00:00:00.000000000",
          "2024-03-20T00:00:00.000000000",
          "2024-03-21T00:00:00.000000000",
          "2024-03-22T00:00:00.000000000",
          "2024-03-23T00:00:00.000000000",
          "2024-03-24T00:00:00.000000000",
          "2024-03-25T00:00:00.000000000",
          "2024-03-26T00:00:00.000000000",
          "2024-03-27T00:00:00.000000000",
          "2024-03-28T00:00:00.000000000",
          "2024-03-29T00:00:00.000000000",
          "2024-03-30T00:00:00.000000000",
          "2024-03-31T00:00:00.000000000",
          "2024-04-01T00:00:00.000000000",
          "2024-04-02T00:00:00.000000000",
          "2024-04-03T00:00:00.000000000",
          "2024-04-04T00:00:00.000000000",
          "2024-04-05T00:00:00.000000000",
          "2024-04-06T00:00:00.000000000",
          "2024-04-07T00:00:00.000000000",
          "2024-04-08T00:00:00.000000000",
          "2024-04-09T00:00:00.000000000",
          "2024-04-10T00:00:00.000000000",
          "2024-04-11T00:00:00.000000000",
          "2024-04-12T00:00:00.000000000",
          "2024-04-13T00:00:00.000000000",
          "2024-04-14T00:00:00.000000000",
          "2024-04-15T00:00:00.000000000",
          "2024-04-16T00:00:00.000000000",
          "2024-04-17T00:00:00.000000000",
          "2024-04-18T00:00:00.000000000",
          "2024-04-19T00:00:00.000000000",
          "2024-04-20T00:00:00.000000000",
          "2024-04-21T00:00:00.000000000",
          "2024-04-22T00:00:00.000000000",
          "2024-04-23T00:00:00.000000000",
          "2024-04-24T00:00:00.000000000",
          "2024-04-25T00:00:00.000000000",
          "2024-04-26T00:00:00.000000000",
          "2024-04-27T00:00:00.000000000",
          "2024-04-28T00:00:00.000000000",
          "2024-04-29T00:00:00.000000000",
          "2024-04-30T00:00:00.000000000",
          "2024-05-01T00:00:00.000000000",
          "2024-05-02T00:00:00.000000000",
          "2024-05-03T00:00:00.000000000",
          "2024-05-04T00:00:00.000000000",
          "2024-05-05T00:00:00.000000000",
          "2024-05-06T00:00:00.000000000",
          "2024-05-07T00:00:00.000000000",
          "2024-05-08T00:00:00.000000000",
          "2024-05-09T00:00:00.000000000",
          "2024-05-10T00:00:00.000000000",
          "2024-05-11T00:00:00.000000000",
          "2024-05-12T00:00:00.000000000",
          "2024-05-13T00:00:00.000000000",
          "2024-05-14T00:00:00.000000000",
          "2024-05-15T00:00:00.000000000",
          "2024-05-16T00:00:00.000000000",
          "2024-05-17T00:00:00.000000000",
          "2024-05-18T00:00:00.000000000",
          "2024-05-19T00:00:00.000000000",
          "2024-05-20T00:00:00.000000000",
          "2024-05-21T00:00:00.000000000",
          "2024-05-22T00:00:00.000000000",
          "2024-05-23T00:00:00.000000000",
          "2024-05-24T00:00:00.000000000",
          "2024-05-25T00:00:00.000000000",
          "2024-05-26T00:00:00.000000000",
          "2024-05-27T00:00:00.000000000",
          "2024-05-28T00:00:00.000000000",
          "2024-05-29T00:00:00.000000000",
          "2024-05-30T00:00:00.000000000",
          "2024-05-31T00:00:00.000000000",
          "2024-06-01T00:00:00.000000000",
          "2024-06-02T00:00:00.000000000",
          "2024-06-03T00:00:00.000000000",
          "2024-06-04T00:00:00.000000000",
          "2024-06-05T00:00:00.000000000",
          "2024-06-06T00:00:00.000000000",
          "2024-06-07T00:00:00.000000000",
          "2024-06-08T00:00:00.000000000",
          "2024-06-09T00:00:00.000000000",
          "2024-06-10T00:00:00.000000000",
          "2024-06-11T00:00:00.000000000",
          "2024-06-12T00:00:00.000000000",
          "2024-06-13T00:00:00.000000000",
          "2024-06-14T00:00:00.000000000",
          "2024-06-15T00:00:00.000000000",
          "2024-06-16T00:00:00.000000000",
          "2024-06-17T00:00:00.000000000",
          "2024-06-18T00:00:00.000000000",
          "2024-06-19T00:00:00.000000000",
          "2024-06-20T00:00:00.000000000",
          "2024-06-21T00:00:00.000000000",
          "2024-06-22T00:00:00.000000000",
          "2024-06-23T00:00:00.000000000",
          "2024-06-24T00:00:00.000000000",
          "2024-06-25T00:00:00.000000000",
          "2024-06-26T00:00:00.000000000",
          "2024-06-27T00:00:00.000000000",
          "2024-06-28T00:00:00.000000000",
          "2024-06-29T00:00:00.000000000",
          "2024-06-30T00:00:00.000000000",
          "2024-07-01T00:00:00.000000000",
          "2024-07-02T00:00:00.000000000",
          "2024-07-03T00:00:00.000000000",
          "2024-07-04T00:00:00.000000000",
          "2024-07-05T00:00:00.000000000",
          "2024-07-06T00:00:00.000000000",
          "2024-07-07T00:00:00.000000000",
          "2024-07-08T00:00:00.000000000",
          "2024-07-09T00:00:00.000000000",
          "2024-07-10T00:00:00.000000000",
          "2024-07-11T00:00:00.000000000",
          "2024-07-12T00:00:00.000000000",
          "2024-07-13T00:00:00.000000000",
          "2024-07-14T00:00:00.000000000",
          "2024-07-15T00:00:00.000000000",
          "2024-07-16T00:00:00.000000000",
          "2024-07-17T00:00:00.000000000",
          "2024-07-18T00:00:00.000000000",
          "2024-07-19T00:00:00.000000000",
          "2024-07-20T00:00:00.000000000",
          "2024-07-21T00:00:00.000000000",
          "2024-07-22T00:00:00.000000000",
          "2024-07-23T00:00:00.000000000",
          "2024-07-24T00:00:00.000000000",
          "2024-07-25T00:00:00.000000000",
          "2024-07-26T00:00:00.000000000",
          "2024-07-27T00:00:00.000000000",
          "2024-07-28T00:00:00.000000000",
          "2024-07-29T00:00:00.000000000",
          "2024-07-30T00:00:00.000000000",
          "2024-07-31T00:00:00.000000000",
          "2024-08-01T00:00:00.000000000",
          "2024-08-02T00:00:00.000000000",
          "2024-08-03T00:00:00.000000000",
          "2024-08-04T00:00:00.000000000",
          "2024-08-05T00:00:00.000000000",
          "2024-08-06T00:00:00.000000000",
          "2024-08-07T00:00:00.000000000",
          "2024-08-08T00:00:00.000000000",
          "2024-08-09T00:00:00.000000000",
          "2024-08-10T00:00:00.000000000",
          "2024-08-11T00:00:00.000000000",
          "2024-08-12T00:00:00.000000000",
          "2024-08-13T00:00:00.000000000",
          "2024-08-14T00:00:00.000000000",
          "2024-08-15T00:00:00.000000000",
          "2024-08-16T00:00:00.000000000",
          "2024-08-17T00:00:00.000000000",
          "2024-08-18T00:00:00.000000000",
          "2024-08-19T00:00:00.000000000",
          "2024-08-20T00:00:00.000000000",
          "2024-08-21T00:00:00.000000000",
          "2024-08-22T00:00:00.000000000",
          "2024-08-23T00:00:00.000000000",
          "2024-08-24T00:00:00.000000000",
          "2024-08-25T00:00:00.000000000",
          "2024-08-26T00:00:00.000000000",
          "2024-08-27T00:00:00.000000000",
          "2024-08-28T00:00:00.000000000",
          "2024-08-29T00:00:00.000000000",
          "2024-08-30T00:00:00.000000000",
          "2024-08-31T00:00:00.000000000",
          "2024-09-01T00:00:00.000000000",
          "2024-09-02T00:00:00.000000000",
          "2024-09-03T00:00:00.000000000",
          "2024-09-04T00:00:00.000000000",
          "2024-09-05T00:00:00.000000000",
          "2024-09-06T00:00:00.000000000",
          "2024-09-07T00:00:00.000000000",
          "2024-09-08T00:00:00.000000000",
          "2024-09-09T00:00:00.000000000",
          "2024-09-10T00:00:00.000000000",
          "2024-09-11T00:00:00.000000000",
          "2024-09-12T00:00:00.000000000",
          "2024-09-13T00:00:00.000000000",
          "2024-09-14T00:00:00.000000000",
          "2024-09-15T00:00:00.000000000",
          "2024-09-16T00:00:00.000000000",
          "2024-09-17T00:00:00.000000000",
          "2024-09-18T00:00:00.000000000",
          "2024-09-19T00:00:00.000000000",
          "2024-09-20T00:00:00.000000000",
          "2024-09-21T00:00:00.000000000",
          "2024-09-22T00:00:00.000000000",
          "2024-09-23T00:00:00.000000000",
          "2024-09-24T00:00:00.000000000",
          "2024-09-25T00:00:00.000000000",
          "2024-09-26T00:00:00.000000000",
          "2024-09-27T00:00:00.000000000",
          "2024-09-28T00:00:00.000000000",
          "2024-09-29T00:00:00.000000000",
          "2024-09-30T00:00:00.000000000",
          "2024-10-01T00:00:00.000000000",
          "2024-10-02T00:00:00.000000000",
          "2024-10-03T00:00:00.000000000",
          "2024-10-04T00:00:00.000000000",
          "2024-10-05T00:00:00.000000000",
          "2024-10-06T00:00:00.000000000",
          "2024-10-07T00:00:00.000000000",
          "2024-10-08T00:00:00.000000000",
          "2024-10-09T00:00:00.000000000",
          "2024-10-10T00:00:00.000000000",
          "2024-10-11T00:00:00.000000000",
          "2024-10-12T00:00:00.000000000",
          "2024-10-13T00:00:00.000000000",
          "2024-10-14T00:00:00.000000000",
          "2024-10-15T00:00:00.000000000",
          "2024-10-16T00:00:00.000000000",
          "2024-10-17T00:00:00.000000000",
          "2024-10-18T00:00:00.000000000",
          "2024-10-19T00:00:00.000000000",
          "2024-10-20T00:00:00.000000000",
          "2024-10-21T00:00:00.000000000",
          "2024-10-22T00:00:00.000000000",
          "2024-10-23T00:00:00.000000000",
          "2024-10-24T00:00:00.000000000",
          "2024-10-25T00:00:00.000000000",
          "2024-10-26T00:00:00.000000000",
          "2024-10-27T00:00:00.000000000",
          "2024-10-28T00:00:00.000000000",
          "2024-10-29T00:00:00.000000000",
          "2024-10-30T00:00:00.000000000",
          "2024-10-31T00:00:00.000000000",
          "2024-11-01T00:00:00.000000000",
          "2024-11-02T00:00:00.000000000",
          "2024-11-03T00:00:00.000000000",
          "2024-11-04T00:00:00.000000000",
          "2024-11-05T00:00:00.000000000",
          "2024-11-06T00:00:00.000000000",
          "2024-11-07T00:00:00.000000000",
          "2024-11-08T00:00:00.000000000",
          "2024-11-09T00:00:00.000000000",
          "2024-11-10T00:00:00.000000000",
          "2024-11-11T00:00:00.000000000",
          "2024-11-12T00:00:00.000000000",
          "2024-11-13T00:00:00.000000000",
          "2024-11-14T00:00:00.000000000",
          "2024-11-15T00:00:00.000000000",
          "2024-11-16T00:00:00.000000000",
          "2024-11-17T00:00:00.000000000",
          "2024-11-18T00:00:00.000000000",
          "2024-11-19T00:00:00.000000000",
          "2024-11-20T00:00:00.000000000",
          "2024-11-21T00:00:00.000000000",
          "2024-11-22T00:00:00.000000000",
          "2024-11-23T00:00:00.000000000",
          "2024-11-24T00:00:00.000000000",
          "2024-11-25T00:00:00.000000000",
          "2024-11-26T00:00:00.000000000",
          "2024-11-27T00:00:00.000000000",
          "2024-11-28T00:00:00.000000000",
          "2024-11-29T00:00:00.000000000",
          "2024-11-30T00:00:00.000000000",
          "2024-12-01T00:00:00.000000000",
          "2024-12-02T00:00:00.000000000",
          "2024-12-03T00:00:00.000000000",
          "2024-12-04T00:00:00.000000000",
          "2024-12-05T00:00:00.000000000",
          "2024-12-06T00:00:00.000000000",
          "2024-12-07T00:00:00.000000000",
          "2024-12-08T00:00:00.000000000",
          "2024-12-09T00:00:00.000000000",
          "2024-12-10T00:00:00.000000000",
          "2024-12-11T00:00:00.000000000",
          "2024-12-12T00:00:00.000000000",
          "2024-12-13T00:00:00.000000000",
          "2024-12-14T00:00:00.000000000",
          "2024-12-15T00:00:00.000000000",
          "2024-12-16T00:00:00.000000000",
          "2024-12-17T00:00:00.000000000",
          "2024-12-18T00:00:00.000000000",
          "2024-12-19T00:00:00.000000000",
          "2024-12-20T00:00:00.000000000",
          "2024-12-21T00:00:00.000000000",
          "2024-12-22T00:00:00.000000000",
          "2024-12-23T00:00:00.000000000",
          "2024-12-24T00:00:00.000000000",
          "2024-12-25T00:00:00.000000000",
          "2024-12-26T00:00:00.000000000",
          "2024-12-27T00:00:00.000000000",
          "2024-12-28T00:00:00.000000000",
          "2024-12-29T00:00:00.000000000",
          "2024-12-30T00:00:00.000000000",
          "2024-12-31T00:00:00.000000000",
          "2024-01-01T00:00:00.000000000",
          "2024-01-02T00:00:00.000000000",
          "2024-01-03T00:00:00.000000000",
          "2024-01-04T00:00:00.000000000",
          "2024-01-05T00:00:00.000000000",
          "2024-01-06T00:00:00.000000000",
          "2024-01-07T00:00:00.000000000",
          "2024-01-08T00:00:00.000000000",
          "2024-01-09T00:00:00.000000000",
          "2024-01-10T00:00:00.000000000",
          "2024-01-11T00:00:00.000000000",
          "2024-01-12T00:00:00.000000000",
          "2024-01-13T00:00:00.000000000",
          "2024-01-14T00:00:00.000000000",
          "2024-01-15T00:00:00.000000000",
          "2024-01-16T00:00:00.000000000",
          "2024-01-17T00:00:00.000000000",
          "2024-01-18T00:00:00.000000000",
          "2024-01-19T00:00:00.000000000",
          "2024-01-20T00:00:00.000000000",
          "2024-01-21T00:00:00.000000000",
          "2024-01-22T00:00:00.000000000",
          "2024-01-23T00:00:00.000000000",
          "2024-01-24T00:00:00.000000000",
          "2024-01-25T00:00:00.000000000",
          "2024-01-26T00:00:00.000000000",
          "2024-01-27T00:00:00.000000000",
          "2024-01-28T00:00:00.000000000",
          "2024-01-29T00:00:00.000000000",
          "2024-01-30T00:00:00.000000000",
          "2024-01-31T00:00:00.000000000",
          "2024-02-01T00:00:00.000000000",
          "2024-02-02T00:00:00.000000000",
          "2024-02-03T00:00:00.000000000",
          "2024-02-04T00:00:00.000000000",
          "2024-02-05T00:00:00.000000000",
          "2024-02-06T00:00:00.000000000",
          "2024-02-07T00:00:00.000000000",
          "2024-02-08T00:00:00.000000000",
          "2024-02-09T00:00:00.000000000",
          "2024-02-10T00:00:00.000000000",
          "2024-02-11T00:00:00.000000000",
          "2024-02-12T00:00:00.000000000",
          "2024-02-13T00:00:00.000000000",
          "2024-02-14T00:00:00.000000000",
          "2024-02-15T00:00:00.000000000",
          "2024-02-16T00:00:00.000000000",
          "2024-02-17T00:00:00.000000000",
          "2024-02-18T00:00:00.000000000",
          "2024-02-19T00:00:00.000000000",
          "2024-02-20T00:00:00.000000000",
          "2024-02-21T00:00:00.000000000",
          "2024-02-22T00:00:00.000000000",
          "2024-02-23T00:00:00.000000000",
          "2024-02-24T00:00:00.000000000",
          "2024-02-25T00:00:00.000000000",
          "2024-02-26T00:00:00.000000000",
          "2024-02-27T00:00:00.000000000",
          "2024-02-28T00:00:00.000000000",
          "2024-02-29T00:00:00.000000000",
          "2024-03-01T00:00:00.000000000",
          "2024-03-02T00:00:00.000000000",
          "2024-03-03T00:00:00.000000000",
          "2024-03-04T00:00:00.000000000",
          "2024-03-05T00:00:00.000000000",
          "2024-03-06T00:00:00.000000000",
          "2024-03-07T00:00:00.000000000",
          "2024-03-08T00:00:00.000000000",
          "2024-03-09T00:00:00.000000000",
          "2024-03-10T00:00:00.000000000",
          "2024-03-11T00:00:00.000000000",
          "2024-03-12T00:00:00.000000000",
          "2024-03-13T00:00:00.000000000",
          "2024-03-14T00:00:00.000000000",
          "2024-03-15T00:00:00.000000000",
          "2024-03-16T00:00:00.000000000",
          "2024-03-17T00:00:00.000000000",
          "2024-03-18T00:00:00.000000000",
          "2024-03-19T00:00:00.000000000",
          "2024-03-20T00:00:00.000000000",
          "2024-03-21T00:00:00.000000000",
          "2024-03-22T00:00:00.000000000",
          "2024-03-23T00:00:00.000000000",
          "2024-03-24T00:00:00.000000000",
          "2024-03-25T00:00:00.000000000",
          "2024-03-26T00:00:00.000000000",
          "2024-03-27T00:00:00.000000000",
          "2024-03-28T00:00:00.000000000",
          "2024-03-29T00:00:00.000000000",
          "2024-03-30T00:00:00.000000000",
          "2024-03-31T00:00:00.000000000",
          "2024-04-01T00:00:00.000000000",
          "2024-04-02T00:00:00.000000000",
          "2024-04-03T00:00:00.000000000",
          "2024-04-04T00:00:00.000000000",
          "2024-04-05T00:00:00.000000000",
          "2024-04-06T00:00:00.000000000",
          "2024-04-07T00:00:00.000000000",
          "2024-04-08T00:00:00.000000000",
          "2024-04-09T00:00:00.000000000",
          "2024-04-10T00:00:00.000000000",
          "2024-04-11T00:00:00.000000000",
          "2024-04-12T00:00:00.000000000",
          "2024-04-13T00:00:00.000000000",
          "2024-04-14T00:00:00.000000000",
          "2024-04-15T00:00:00.000000000",
          "2024-04-16T00:00:00.000000000",
          "2024-04-17T00:00:00.000000000",
          "2024-04-18T00:00:00.000000000",
          "2024-04-19T00:00:00.000000000",
          "2024-04-20T00:00:00.000000000",
          "2024-04-21T00:00:00.000000000",
          "2024-04-22T00:00:00.000000000",
          "2024-04-23T00:00:00.000000000",
          "2024-04-24T00:00:00.000000000",
          "2024-04-25T00:00:00.000000000",
          "2024-04-26T00:00:00.000000000",
          "2024-04-27T00:00:00.000000000",
          "2024-04-28T00:00:00.000000000",
          "2024-04-29T00:00:00.000000000",
          "2024-04-30T00:00:00.000000000",
          "2024-05-01T00:00:00.000000000",
          "2024-05-02T00:00:00.000000000",
          "2024-05-03T00:00:00.000000000",
          "2024-05-04T00:00:00.000000000",
          "2024-05-05T00:00:00.000000000",
          "2024-05-06T00:00:00.000000000",
          "2024-05-07T00:00:00.000000000",
          "2024-05-08T00:00:00.000000000",
          "2024-05-09T00:00:00.000000000",
          "2024-05-10T00:00:00.000000000",
          "2024-05-11T00:00:00.000000000",
          "2024-05-12T00:00:00.000000000",
          "2024-05-13T00:00:00.000000000",
          "2024-05-14T00:00:00.000000000",
          "2024-05-15T00:00:00.000000000",
          "2024-05-16T00:00:00.000000000",
          "2024-05-17T00:00:00.000000000",
          "2024-05-18T00:00:00.000000000",
          "2024-05-19T00:00:00.000000000",
          "2024-05-20T00:00:00.000000000",
          "2024-05-21T00:00:00.000000000",
          "2024-05-22T00:00:00.000000000",
          "2024-05-23T00:00:00.000000000",
          "2024-05-24T00:00:00.000000000",
          "2024-05-25T00:00:00.000000000",
          "2024-05-26T00:00:00.000000000",
          "2024-05-27T00:00:00.000000000",
          "2024-05-28T00:00:00.000000000",
          "2024-05-29T00:00:00.000000000",
          "2024-05-30T00:00:00.000000000",
          "2024-05-31T00:00:00.000000000",
          "2024-06-01T00:00:00.000000000",
          "2024-06-02T00:00:00.000000000",
          "2024-06-03T00:00:00.000000000",
          "2024-06-04T00:00:00.000000000",
          "2024-06-05T00:00:00.000000000",
          "2024-06-06T00:00:00.000000000",
          "2024-06-07T00:00:00.000000000",
          "2024-06-08T00:00:00.000000000",
          "2024-06-09T00:00:00.000000000",
          "2024-06-10T00:00:00.000000000",
          "2024-06-11T00:00:00.000000000",
          "2024-06-12T00:00:00.000000000",
          "2024-06-13T00:00:00.000000000",
          "2024-06-14T00:00:00.000000000",
          "2024-06-15T00:00:00.000000000",
          "2024-06-16T00:00:00.000000000",
          "2024-06-17T00:00:00.000000000",
          "2024-06-18T00:00:00.000000000",
          "2024-06-19T00:00:00.000000000",
          "2024-06-20T00:00:00.000000000",
          "2024-06-21T00:00:00.000000000",
          "2024-06-22T00:00:00.000000000",
          "2024-06-23T00:00:00.000000000",
          "2024-06-24T00:00:00.000000000",
          "2024-06-25T00:00:00.000000000",
          "2024-06-26T00:00:00.000000000",
          "2024-06-27T00:00:00.000000000",
          "2024-06-28T00:00:00.000000000",
          "2024-06-29T00:00:00.000000000",
          "2024-06-30T00:00:00.000000000",
          "2024-07-01T00:00:00.000000000",
          "2024-07-02T00:00:00.000000000",
          "2024-07-03T00:00:00.000000000",
          "2024-07-04T00:00:00.000000000",
          "2024-07-05T00:00:00.000000000",
          "2024-07-06T00:00:00.000000000",
          "2024-07-07T00:00:00.000000000",
          "2024-07-08T00:00:00.000000000",
          "2024-07-09T00:00:00.000000000",
          "2024-07-10T00:00:00.000000000",
          "2024-07-11T00:00:00.000000000",
          "2024-07-12T00:00:00.000000000",
          "2024-07-13T00:00:00.000000000",
          "2024-07-14T00:00:00.000000000",
          "2024-07-15T00:00:00.000000000",
          "2024-07-16T00:00:00.000000000",
          "2024-07-17T00:00:00.000000000",
          "2024-07-18T00:00:00.000000000",
          "2024-07-19T00:00:00.000000000",
          "2024-07-20T00:00:00.000000000",
          "2024-07-21T00:00:00.000000000",
          "2024-07-22T00:00:00.000000000",
          "2024-07-23T00:00:00.000000000",
          "2024-07-24T00:00:00.000000000",
          "2024-07-25T00:00:00.000000000",
          "2024-07-26T00:00:00.000000000",
          "2024-07-27T00:00:00.000000000",
          "2024-07-28T00:00:00.000000000",
          "2024-07-29T00:00:00.000000000",
          "2024-07-30T00:00:00.000000000",
          "2024-07-31T00:00:00.000000000",
          "2024-08-01T00:00:00.000000000",
          "2024-08-02T00:00:00.000000000",
          "2024-08-03T00:00:00.000000000",
          "2024-08-04T00:00:00.000000000",
          "2024-08-05T00:00:00.000000000",
          "2024-08-06T00:00:00.000000000",
          "2024-08-07T00:00:00.000000000",
          "2024-08-08T00:00:00.000000000",
          "2024-08-09T00:00:00.000000000",
          "2024-08-10T00:00:00.000000000",
          "2024-08-11T00:00:00.000000000",
          "2024-08-12T00:00:00.000000000",
          "2024-08-13T00:00:00.000000000",
          "2024-08-14T00:00:00.000000000",
          "2024-08-15T00:00:00.000000000",
          "2024-08-16T00:00:00.000000000",
          "2024-08-17T00:00:00.000000000",
          "2024-08-18T00:00:00.000000000",
          "2024-08-19T00:00:00.000000000",
          "2024-08-20T00:00:00.000000000",
          "2024-08-21T00:00:00.000000000",
          "2024-08-22T00:00:00.000000000",
          "2024-08-23T00:00:00.000000000",
          "2024-08-24T00:00:00.000000000",
          "2024-08-25T00:00:00.000000000",
          "2024-08-26T00:00:00.000000000",
          "2024-08-27T00:00:00.000000000",
          "2024-08-28T00:00:00.000000000",
          "2024-08-29T00:00:00.000000000",
          "2024-08-30T00:00:00.000000000",
          "2024-08-31T00:00:00.000000000",
          "2024-09-01T00:00:00.000000000",
          "2024-09-02T00:00:00.000000000",
          "2024-09-03T00:00:00.000000000",
          "2024-09-04T00:00:00.000000000",
          "2024-09-05T00:00:00.000000000",
          "2024-09-06T00:00:00.000000000",
          "2024-09-07T00:00:00.000000000",
          "2024-09-08T00:00:00.000000000",
          "2024-09-09T00:00:00.000000000",
          "2024-09-10T00:00:00.000000000",
          "2024-09-11T00:00:00.000000000",
          "2024-09-12T00:00:00.000000000",
          "2024-09-13T00:00:00.000000000",
          "2024-09-14T00:00:00.000000000",
          "2024-09-15T00:00:00.000000000",
          "2024-09-16T00:00:00.000000000",
          "2024-09-17T00:00:00.000000000",
          "2024-09-18T00:00:00.000000000",
          "2024-09-19T00:00:00.000000000",
          "2024-09-20T00:00:00.000000000",
          "2024-09-21T00:00:00.000000000",
          "2024-09-22T00:00:00.000000000",
          "2024-09-23T00:00:00.000000000",
          "2024-09-24T00:00:00.000000000",
          "2024-09-25T00:00:00.000000000",
          "2024-09-26T00:00:00.000000000",
          "2024-09-27T00:00:00.000000000",
          "2024-09-28T00:00:00.000000000",
          "2024-09-29T00:00:00.000000000",
          "2024-09-30T00:00:00.000000000",
          "2024-10-01T00:00:00.000000000",
          "2024-10-02T00:00:00.000000000",
          "2024-10-03T00:00:00.000000000",
          "2024-10-04T00:00:00.000000000",
          "2024-10-05T00:00:00.000000000",
          "2024-10-06T00:00:00.000000000",
          "2024-10-07T00:00:00.000000000",
          "2024-10-08T00:00:00.000000000",
          "2024-10-09T00:00:00.000000000",
          "2024-10-10T00:00:00.000000000",
          "2024-10-11T00:00:00.000000000",
          "2024-10-12T00:00:00.000000000",
          "2024-10-13T00:00:00.000000000",
          "2024-10-14T00:00:00.000000000",
          "2024-10-15T00:00:00.000000000",
          "2024-10-16T00:00:00.000000000",
          "2024-10-17T00:00:00.000000000",
          "2024-10-18T00:00:00.000000000",
          "2024-10-19T00:00:00.000000000",
          "2024-10-20T00:00:00.000000000",
          "2024-10-21T00:00:00.000000000",
          "2024-10-22T00:00:00.000000000",
          "2024-10-23T00:00:00.000000000",
          "2024-10-24T00:00:00.000000000",
          "2024-10-25T00:00:00.000000000",
          "2024-10-26T00:00:00.000000000",
          "2024-10-27T00:00:00.000000000",
          "2024-10-28T00:00:00.000000000",
          "2024-10-29T00:00:00.000000000",
          "2024-10-30T00:00:00.000000000",
          "2024-10-31T00:00:00.000000000",
          "2024-11-01T00:00:00.000000000",
          "2024-11-02T00:00:00.000000000",
          "2024-11-03T00:00:00.000000000",
          "2024-11-04T00:00:00.000000000",
          "2024-11-05T00:00:00.000000000",
          "2024-11-06T00:00:00.000000000",
          "2024-11-07T00:00:00.000000000",
          "2024-11-08T00:00:00.000000000",
          "2024-11-09T00:00:00.000000000",
          "2024-11-10T00:00:00.000000000",
          "2024-11-11T00:00:00.000000000",
          "2024-11-12T00:00:00.000000000",
          "2024-11-13T00:00:00.000000000",
          "2024-11-14T00:00:00.000000000",
          "2024-11-15T00:00:00.000000000",
          "2024-11-16T00:00:00.000000000",
          "2024-11-17T00:00:00.000000000",
          "2024-11-18T00:00:00.000000000",
          "2024-11-19T00:00:00.000000000",
          "2024-11-20T00:00:00.000000000",
          "2024-11-21T00:00:00.000000000",
          "2024-11-22T00:00:00.000000000",
          "2024-11-23T00:00:00.000000000",
          "2024-11-24T00:00:00.000000000",
          "2024-11-25T00:00:00.000000000",
          "2024-11-26T00:00:00.000000000",
          "2024-11-27T00:00:00.000000000",
          "2024-11-28T00:00:00.000000000",
          "2024-11-29T00:00:00.000000000",
          "2024-11-30T00:00:00.000000000",
          "2024-12-01T00:00:00.000000000",
          "2024-12-02T00:00:00.000000000",
          "2024-12-03T00:00:00.000000000",
          "2024-12-04T00:00:00.000000000",
          "2024-12-05T00:00:00.000000000",
          "2024-12-06T00:00:00.000000000",
          "2024-12-07T00:00:00.000000000",
          "2024-12-08T00:00:00.000000000",
          "2024-12-09T00:00:00.000000000",
          "2024-12-10T00:00:00.000000000",
          "2024-12-11T00:00:00.000000000",
          "2024-12-12T00:00:00.000000000",
          "2024-12-13T00:00:00.000000000",
          "2024-12-14T00:00:00.000000000",
          "2024-12-15T00:00:00.000000000",
          "2024-12-16T00:00:00.000000000",
          "2024-12-17T00:00:00.000000000",
          "2024-12-18T00:00:00.000000000",
          "2024-12-19T00:00:00.000000000",
          "2024-12-20T00:00:00.000000000",
          "2024-12-21T00:00:00.000000000",
          "2024-12-22T00:00:00.000000000",
          "2024-12-23T00:00:00.000000000",
          "2024-12-24T00:00:00.000000000",
          "2024-12-25T00:00:00.000000000",
          "2024-12-26T00:00:00.000000000",
          "2024-12-27T00:00:00.000000000",
          "2024-12-28T00:00:00.000000000",
          "2024-12-29T00:00:00.000000000",
          "2024-12-30T00:00:00.000000000",
          "2024-12-31T00:00:00.000000000"
         ],
         "xaxis": "x",
         "y": {
          "bdata": "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",
          "dtype": "f8"
         },
         "yaxis": "y"
        }
       ],
       "layout": {
        "coloraxis": {
         "colorbar": {
          "title": {
           "text": "verdi"
          }
         },
         "colorscale": [
          [
           0,
           "#0d0887"
          ],
          [
           0.1111111111111111,
           "#46039f"
          ],
          [
           0.2222222222222222,
           "#7201a8"
          ],
          [
           0.3333333333333333,
           "#9c179e"
          ],
          [
           0.4444444444444444,
           "#bd3786"
          ],
          [
           0.5555555555555556,
           "#d8576b"
          ],
          [
           0.6666666666666666,
           "#ed7953"
          ],
          [
           0.7777777777777778,
           "#fb9f3a"
          ],
          [
           0.8888888888888888,
           "#fdca26"
          ],
          [
           1,
           "#f0f921"
          ]
         ]
        },
        "legend": {
         "tracegroupgap": 0
        },
        "margin": {
         "t": 60
        },
        "template": {
         "data": {
          "bar": [
           {
            "error_x": {
             "color": "#2a3f5f"
            },
            "error_y": {
             "color": "#2a3f5f"
            },
            "marker": {
             "line": {
              "color": "#E5ECF6",
              "width": 0.5
             },
             "pattern": {
              "fillmode": "overlay",
              "size": 10,
              "solidity": 0.2
             }
            },
            "type": "bar"
           }
          ],
          "barpolar": [
           {
            "marker": {
             "line": {
              "color": "#E5ECF6",
              "width": 0.5
             },
             "pattern": {
              "fillmode": "overlay",
              "size": 10,
              "solidity": 0.2
             }
            },
            "type": "barpolar"
           }
          ],
          "carpet": [
           {
            "aaxis": {
             "endlinecolor": "#2a3f5f",
             "gridcolor": "white",
             "linecolor": "white",
             "minorgridcolor": "white",
             "startlinecolor": "#2a3f5f"
            },
            "baxis": {
             "endlinecolor": "#2a3f5f",
             "gridcolor": "white",
             "linecolor": "white",
             "minorgridcolor": "white",
             "startlinecolor": "#2a3f5f"
            },
            "type": "carpet"
           }
          ],
          "choropleth": [
           {
            "colorbar": {
             "outlinewidth": 0,
             "ticks": ""
            },
            "type": "choropleth"
           }
          ],
          "contour": [
           {
            "colorbar": {
             "outlinewidth": 0,
             "ticks": ""
            },
            "colorscale": [
             [
              0,
              "#0d0887"
             ],
             [
              0.1111111111111111,
              "#46039f"
             ],
             [
              0.2222222222222222,
              "#7201a8"
             ],
             [
              0.3333333333333333,
              "#9c179e"
             ],
             [
              0.4444444444444444,
              "#bd3786"
             ],
             [
              0.5555555555555556,
              "#d8576b"
             ],
             [
              0.6666666666666666,
              "#ed7953"
             ],
             [
              0.7777777777777778,
              "#fb9f3a"
             ],
             [
              0.8888888888888888,
              "#fdca26"
             ],
             [
              1,
              "#f0f921"
             ]
            ],
            "type": "contour"
           }
          ],
          "contourcarpet": [
           {
            "colorbar": {
             "outlinewidth": 0,
             "ticks": ""
            },
            "type": "contourcarpet"
           }
          ],
          "heatmap": [
           {
            "colorbar": {
             "outlinewidth": 0,
             "ticks": ""
            },
            "colorscale": [
             [
              0,
              "#0d0887"
             ],
             [
              0.1111111111111111,
              "#46039f"
             ],
             [
              0.2222222222222222,
              "#7201a8"
             ],
             [
              0.3333333333333333,
              "#9c179e"
             ],
             [
              0.4444444444444444,
              "#bd3786"
             ],
             [
              0.5555555555555556,
              "#d8576b"
             ],
             [
              0.6666666666666666,
              "#ed7953"
             ],
             [
              0.7777777777777778,
              "#fb9f3a"
             ],
             [
              0.8888888888888888,
              "#fdca26"
             ],
             [
              1,
              "#f0f921"
             ]
            ],
            "type": "heatmap"
           }
          ],
          "histogram": [
           {
            "marker": {
             "pattern": {
              "fillmode": "overlay",
              "size": 10,
              "solidity": 0.2
             }
            },
            "type": "histogram"
           }
          ],
          "histogram2d": [
           {
            "colorbar": {
             "outlinewidth": 0,
             "ticks": ""
            },
            "colorscale": [
             [
              0,
              "#0d0887"
             ],
             [
              0.1111111111111111,
              "#46039f"
             ],
             [
              0.2222222222222222,
              "#7201a8"
             ],
             [
              0.3333333333333333,
              "#9c179e"
             ],
             [
              0.4444444444444444,
              "#bd3786"
             ],
             [
              0.5555555555555556,
              "#d8576b"
             ],
             [
              0.6666666666666666,
              "#ed7953"
             ],
             [
              0.7777777777777778,
              "#fb9f3a"
             ],
             [
              0.8888888888888888,
              "#fdca26"
             ],
             [
              1,
              "#f0f921"
             ]
            ],
            "type": "histogram2d"
           }
          ],
          "histogram2dcontour": [
           {
            "colorbar": {
             "outlinewidth": 0,
             "ticks": ""
            },
            "colorscale": [
             [
              0,
              "#0d0887"
             ],
             [
              0.1111111111111111,
              "#46039f"
             ],
             [
              0.2222222222222222,
              "#7201a8"
             ],
             [
              0.3333333333333333,
              "#9c179e"
             ],
             [
              0.4444444444444444,
              "#bd3786"
             ],
             [
              0.5555555555555556,
              "#d8576b"
             ],
             [
              0.6666666666666666,
              "#ed7953"
             ],
             [
              0.7777777777777778,
              "#fb9f3a"
             ],
             [
              0.8888888888888888,
              "#fdca26"
             ],
             [
              1,
              "#f0f921"
             ]
            ],
            "type": "histogram2dcontour"
           }
          ],
          "mesh3d": [
           {
            "colorbar": {
             "outlinewidth": 0,
             "ticks": ""
            },
            "type": "mesh3d"
           }
          ],
          "parcoords": [
           {
            "line": {
             "colorbar": {
              "outlinewidth": 0,
              "ticks": ""
             }
            },
            "type": "parcoords"
           }
          ],
          "pie": [
           {
            "automargin": true,
            "type": "pie"
           }
          ],
          "scatter": [
           {
            "fillpattern": {
             "fillmode": "overlay",
             "size": 10,
             "solidity": 0.2
            },
            "type": "scatter"
           }
          ],
          "scatter3d": [
           {
            "line": {
             "colorbar": {
              "outlinewidth": 0,
              "ticks": ""
             }
            },
            "marker": {
             "colorbar": {
              "outlinewidth": 0,
              "ticks": ""
             }
            },
            "type": "scatter3d"
           }
          ],
          "scattercarpet": [
           {
            "marker": {
             "colorbar": {
              "outlinewidth": 0,
              "ticks": ""
             }
            },
            "type": "scattercarpet"
           }
          ],
          "scattergeo": [
           {
            "marker": {
             "colorbar": {
              "outlinewidth": 0,
              "ticks": ""
             }
            },
            "type": "scattergeo"
           }
          ],
          "scattergl": [
           {
            "marker": {
             "colorbar": {
              "outlinewidth": 0,
              "ticks": ""
             }
            },
            "type": "scattergl"
           }
          ],
          "scattermap": [
           {
            "marker": {
             "colorbar": {
              "outlinewidth": 0,
              "ticks": ""
             }
            },
            "type": "scattermap"
           }
          ],
          "scattermapbox": [
           {
            "marker": {
             "colorbar": {
              "outlinewidth": 0,
              "ticks": ""
             }
            },
            "type": "scattermapbox"
           }
          ],
          "scatterpolar": [
           {
            "marker": {
             "colorbar": {
              "outlinewidth": 0,
              "ticks": ""
             }
            },
            "type": "scatterpolar"
           }
          ],
          "scatterpolargl": [
           {
            "marker": {
             "colorbar": {
              "outlinewidth": 0,
              "ticks": ""
             }
            },
            "type": "scatterpolargl"
           }
          ],
          "scatterternary": [
           {
            "marker": {
             "colorbar": {
              "outlinewidth": 0,
              "ticks": ""
             }
            },
            "type": "scatterternary"
           }
          ],
          "surface": [
           {
            "colorbar": {
             "outlinewidth": 0,
             "ticks": ""
            },
            "colorscale": [
             [
              0,
              "#0d0887"
             ],
             [
              0.1111111111111111,
              "#46039f"
             ],
             [
              0.2222222222222222,
              "#7201a8"
             ],
             [
              0.3333333333333333,
              "#9c179e"
             ],
             [
              0.4444444444444444,
              "#bd3786"
             ],
             [
              0.5555555555555556,
              "#d8576b"
             ],
             [
              0.6666666666666666,
              "#ed7953"
             ],
             [
              0.7777777777777778,
              "#fb9f3a"
             ],
             [
              0.8888888888888888,
              "#fdca26"
             ],
             [
              1,
              "#f0f921"
             ]
            ],
            "type": "surface"
           }
          ],
          "table": [
           {
            "cells": {
             "fill": {
              "color": "#EBF0F8"
             },
             "line": {
              "color": "white"
             }
            },
            "header": {
             "fill": {
              "color": "#C8D4E3"
             },
             "line": {
              "color": "white"
             }
            },
            "type": "table"
           }
          ]
         },
         "layout": {
          "annotationdefaults": {
           "arrowcolor": "#2a3f5f",
           "arrowhead": 0,
           "arrowwidth": 1
          },
          "autotypenumbers": "strict",
          "coloraxis": {
           "colorbar": {
            "outlinewidth": 0,
            "ticks": ""
           }
          },
          "colorscale": {
           "diverging": [
            [
             0,
             "#8e0152"
            ],
            [
             0.1,
             "#c51b7d"
            ],
            [
             0.2,
             "#de77ae"
            ],
            [
             0.3,
             "#f1b6da"
            ],
            [
             0.4,
             "#fde0ef"
            ],
            [
             0.5,
             "#f7f7f7"
            ],
            [
             0.6,
             "#e6f5d0"
            ],
            [
             0.7,
             "#b8e186"
            ],
            [
             0.8,
             "#7fbc41"
            ],
            [
             0.9,
             "#4d9221"
            ],
            [
             1,
             "#276419"
            ]
           ],
           "sequential": [
            [
             0,
             "#0d0887"
            ],
            [
             0.1111111111111111,
             "#46039f"
            ],
            [
             0.2222222222222222,
             "#7201a8"
            ],
            [
             0.3333333333333333,
             "#9c179e"
            ],
            [
             0.4444444444444444,
             "#bd3786"
            ],
            [
             0.5555555555555556,
             "#d8576b"
            ],
            [
             0.6666666666666666,
             "#ed7953"
            ],
            [
             0.7777777777777778,
             "#fb9f3a"
            ],
            [
             0.8888888888888888,
             "#fdca26"
            ],
            [
             1,
             "#f0f921"
            ]
           ],
           "sequentialminus": [
            [
             0,
             "#0d0887"
            ],
            [
             0.1111111111111111,
             "#46039f"
            ],
            [
             0.2222222222222222,
             "#7201a8"
            ],
            [
             0.3333333333333333,
             "#9c179e"
            ],
            [
             0.4444444444444444,
             "#bd3786"
            ],
            [
             0.5555555555555556,
             "#d8576b"
            ],
            [
             0.6666666666666666,
             "#ed7953"
            ],
            [
             0.7777777777777778,
             "#fb9f3a"
            ],
            [
             0.8888888888888888,
             "#fdca26"
            ],
            [
             1,
             "#f0f921"
            ]
           ]
          },
          "colorway": [
           "#636efa",
           "#EF553B",
           "#00cc96",
           "#ab63fa",
           "#FFA15A",
           "#19d3f3",
           "#FF6692",
           "#B6E880",
           "#FF97FF",
           "#FECB52"
          ],
          "font": {
           "color": "#2a3f5f"
          },
          "geo": {
           "bgcolor": "white",
           "lakecolor": "white",
           "landcolor": "#E5ECF6",
           "showlakes": true,
           "showland": true,
           "subunitcolor": "white"
          },
          "hoverlabel": {
           "align": "left"
          },
          "hovermode": "closest",
          "mapbox": {
           "style": "light"
          },
          "paper_bgcolor": "white",
          "plot_bgcolor": "#E5ECF6",
          "polar": {
           "angularaxis": {
            "gridcolor": "white",
            "linecolor": "white",
            "ticks": ""
           },
           "bgcolor": "#E5ECF6",
           "radialaxis": {
            "gridcolor": "white",
            "linecolor": "white",
            "ticks": ""
           }
          },
          "scene": {
           "xaxis": {
            "backgroundcolor": "#E5ECF6",
            "gridcolor": "white",
            "gridwidth": 2,
            "linecolor": "white",
            "showbackground": true,
            "ticks": "",
            "zerolinecolor": "white"
           },
           "yaxis": {
            "backgroundcolor": "#E5ECF6",
            "gridcolor": "white",
            "gridwidth": 2,
            "linecolor": "white",
            "showbackground": true,
            "ticks": "",
            "zerolinecolor": "white"
           },
           "zaxis": {
            "backgroundcolor": "#E5ECF6",
            "gridcolor": "white",
            "gridwidth": 2,
            "linecolor": "white",
            "showbackground": true,
            "ticks": "",
            "zerolinecolor": "white"
           }
          },
          "shapedefaults": {
           "line": {
            "color": "#2a3f5f"
           }
          },
          "ternary": {
           "aaxis": {
            "gridcolor": "white",
            "linecolor": "white",
            "ticks": ""
           },
           "baxis": {
            "gridcolor": "white",
            "linecolor": "white",
            "ticks": ""
           },
           "bgcolor": "#E5ECF6",
           "caxis": {
            "gridcolor": "white",
            "linecolor": "white",
            "ticks": ""
           }
          },
          "title": {
           "x": 0.05
          },
          "xaxis": {
           "automargin": true,
           "gridcolor": "white",
           "linecolor": "white",
           "ticks": "",
           "title": {
            "standoff": 15
           },
           "zerolinecolor": "white",
           "zerolinewidth": 2
          },
          "yaxis": {
           "automargin": true,
           "gridcolor": "white",
           "linecolor": "white",
           "ticks": "",
           "title": {
            "standoff": 15
           },
           "zerolinecolor": "white",
           "zerolinewidth": 2
          }
         }
        },
        "title": {
         "text": "Vind"
        },
        "xaxis": {
         "anchor": "y",
         "domain": [
          0,
          1
         ],
         "title": {
          "text": "referansetid"
         }
        },
        "yaxis": {
         "anchor": "x",
         "domain": [
          0,
          1
         ],
         "title": {
          "text": "verdi"
         }
        }
       }
      }
     },
     "metadata": {},
     "output_type": "display_data"
    }
   ],
   "source": [
    "fig = px.scatter(clean_wind, x='referansetid', y='verdi', color = 'verdi')\n",
    "fig.update_layout(title = dict(text = 'Vind'))\n",
    "fig.show()"
   ]
  },
  {
   "cell_type": "markdown",
   "id": "604d20f0",
   "metadata": {},
   "source": [
    "I denne grafen blir det tydeliggjort at det er mest vind mellom 1 m/s og 3 m/s."
   ]
  },
  {
   "cell_type": "markdown",
   "id": "9e0407c4",
   "metadata": {},
   "source": [
    "# Prediktiv analyse\n",
    "Ved å se på vinddataen fra 2024 og 2025 kan vi anta hvordan vinden kommer til å endre seg i fremtiden. "
   ]
  },
  {
   "cell_type": "code",
   "execution_count": 30,
   "id": "7361bad8",
   "metadata": {},
   "outputs": [
    {
     "name": "stdout",
     "output_type": "stream",
     "text": [
      "referansetid har fått labels\n",
      "     verdi tidsforskyvning  referansetid  måned\n",
      "0      6.9            PT0H             0      1\n",
      "1      6.3            PT0H             1      1\n",
      "2      5.4            PT0H             2      1\n",
      "3      4.8            PT0H             3      1\n",
      "4      1.9            PT0H             4      1\n",
      "..     ...             ...           ...    ...\n",
      "727    4.3            PT0H           361     12\n",
      "728    6.2            PT0H           362     12\n",
      "729    6.2            PT0H           363     12\n",
      "730    6.1            PT0H           364     12\n",
      "731    4.4            PT0H           365     12\n",
      "\n",
      "[732 rows x 4 columns]\n",
      "Datasettet er delt inn i train og test\n",
      "Størrelsen på test er 0.3\n"
     ]
    }
   ],
   "source": [
    "# Deler datasettet inn i train og test\n",
    "X_train, X_test, y_train, y_test = fc.train_test_set(clean_wind, 0.3)    "
   ]
  },
  {
   "cell_type": "markdown",
   "id": "f3bf0c07",
   "metadata": {},
   "source": [
    "Nå har vi delt datasettet inn i train og test, og vi kan fortsette med å regne linærregresjon og andreregresjon."
   ]
  },
  {
   "cell_type": "markdown",
   "id": "6929a0af",
   "metadata": {},
   "source": [
    "### Linærregresjon"
   ]
  },
  {
   "cell_type": "code",
   "execution_count": 31,
   "id": "4fb2e830",
   "metadata": {},
   "outputs": [
    {
     "name": "stdout",
     "output_type": "stream",
     "text": [
      "koeffisienter: -0.00013481942052364702\n",
      "konstantledd: 3.0229413336635274\n"
     ]
    },
    {
     "data": {
      "text/plain": [
       "<matplotlib.legend.Legend at 0x26551483ed0>"
      ]
     },
     "execution_count": 31,
     "metadata": {},
     "output_type": "execute_result"
    },
    {
     "data": {
      "image/png": "[encoded data removed]",
      "text/plain": [
       "<Figure size 640x480 with 1 Axes>"
      ]
     },
     "metadata": {},
     "output_type": "display_data"
    }
   ],
   "source": [
    "lin_pred = fc.linear(X_train, y_train)\n",
    "\n",
    "# Lag et diagram med train verdier\n",
    "plt.scatter(X_train, y_train, color = 'olivedrab', label = 'Vind data')\n",
    "# Lag en linje med Linjærregesjon\n",
    "plt.plot(X_train, lin_pred, color = 'hotpink', label = 'Linjærregresjon')\n",
    "\n",
    "plt.xlabel('Dato')\n",
    "plt.ylabel('m/s')\n",
    "plt.title('Train: Linærregresjon')\n",
    "plt.legend()"
   ]
  },
  {
   "cell_type": "code",
   "execution_count": 32,
   "id": "5ddc8137",
   "metadata": {},
   "outputs": [
    {
     "data": {
      "text/plain": [
       "<matplotlib.legend.Legend at 0x265516a0cd0>"
      ]
     },
     "execution_count": 32,
     "metadata": {},
     "output_type": "execute_result"
    },
    {
     "data": {
      "image/png": "[encoded data removed]",
      "text/plain": [
       "<Figure size 640x480 with 1 Axes>"
      ]
     },
     "metadata": {},
     "output_type": "display_data"
    }
   ],
   "source": [
    "# Lag et diagram med test verdier\n",
    "plt.scatter(X_test, y_test, color = 'olivedrab', label = 'Vind data')\n",
    "# Lag en linje med Linjærregesjon\n",
    "plt.plot(X_train, lin_pred, color = 'hotpink', label = 'Linjærregesjon')\n",
    "\n",
    "plt.xlabel('Dato')\n",
    "plt.ylabel('m/s')\n",
    "plt.title('Test: Linærregresjon')\n",
    "plt.legend()"
   ]
  },
  {
   "cell_type": "markdown",
   "id": "c4cf1927",
   "metadata": {},
   "source": [
    "### Andregradsregresjon"
   ]
  },
  {
   "cell_type": "code",
   "execution_count": 33,
   "id": "2a072094",
   "metadata": {},
   "outputs": [
    {
     "name": "stdout",
     "output_type": "stream",
     "text": [
      "koeffisienter: -0.0084916294180914 2.3084324530644177e-05\n",
      "konstantledd: 3.5245739056867462\n"
     ]
    },
    {
     "data": {
      "text/plain": [
       "<matplotlib.legend.Legend at 0x2655184d950>"
      ]
     },
     "execution_count": 33,
     "metadata": {},
     "output_type": "execute_result"
    },
    {
     "data": {
      "image/png": "[encoded data removed]",
      "text/plain": [
       "<Figure size 640x480 with 1 Axes>"
      ]
     },
     "metadata": {},
     "output_type": "display_data"
    }
   ],
   "source": [
    "poly_pred = fc.poly(X_train, y_train)\n",
    "\n",
    "# Lag et diagram med train verdier\n",
    "plt.scatter(X_train, y_train, color = 'olivedrab', label = 'Data vind')\n",
    "# Lag en linje med Andregradsregresjon\n",
    "plt.plot(X_train, poly_pred, color = 'hotpink', label = 'Andregradsregresjon')\n",
    "\n",
    "plt.xlabel('Dato')\n",
    "plt.ylabel('m/s')\n",
    "plt.title('Train: Andregradsregresjon')\n",
    "plt.legend()"
   ]
  },
  {
   "cell_type": "code",
   "execution_count": 34,
   "id": "f916189e",
   "metadata": {},
   "outputs": [
    {
     "data": {
      "text/plain": [
       "<matplotlib.legend.Legend at 0x265518e6490>"
      ]
     },
     "execution_count": 34,
     "metadata": {},
     "output_type": "execute_result"
    },
    {
     "data": {
      "image/png": "[encoded data removed]",
      "text/plain": [
       "<Figure size 640x480 with 1 Axes>"
      ]
     },
     "metadata": {},
     "output_type": "display_data"
    }
   ],
   "source": [
    "# Lag et diagram med test verdier\n",
    "plt.scatter(X_test, y_test, color = 'olivedrab', label = 'Vind data')\n",
    "# Lag en linje med Andregradsregresjon\n",
    "plt.plot(X_train, poly_pred, color = 'hotpink', label = 'Andregradsregresjon')\n",
    "\n",
    "plt.xlabel('Dato')\n",
    "plt.ylabel('m/s')\n",
    "plt.title('Test: Andregradsregresjon')\n",
    "plt.legend()"
   ]
  },
  {
   "cell_type": "code",
   "execution_count": 35,
   "id": "b9bede2d",
   "metadata": {},
   "outputs": [
    {
     "name": "stdout",
     "output_type": "stream",
     "text": [
      "1.957920891670786\n",
      "1.9049787919038694\n"
     ]
    }
   ],
   "source": [
    "# Print den kvadratiskegjennomsnittet\n",
    "print(mean_squared_error(y_train, lin_pred))\n",
    "print(mean_squared_error(y_train, poly_pred))"
   ]
  },
  {
   "cell_type": "markdown",
   "id": "55949e2e",
   "metadata": {},
   "source": [
    "Det er svært lite forskjell mellom den linæreregresjonen og andregradsregresjonen. Det kvadratiske gjennomsnittet viser at begge reggresjonene passer like bra. "
   ]
  }
 ],
 "metadata": {
  "kernelspec": {
   "display_name": "Python 3",
   "language": "python",
   "name": "python3"
  },
  "language_info": {
   "codemirror_mode": {
    "name": "ipython",
    "version": 3
   },
   "file_extension": ".py",
   "mimetype": "text/x-python",
   "name": "python",
   "nbconvert_exporter": "python",
   "pygments_lexer": "ipython3",
   "version": "3.13.1"
  }
 },
 "nbformat": 4,
 "nbformat_minor": 5
}
