{
 "cells": [
  {
   "cell_type": "markdown",
   "id": "6b8c9515",
   "metadata": {},
   "source": [
    "Import av nødvendige moduler"
   ]
  },
  {
   "cell_type": "code",
   "execution_count": 1,
   "id": "030c38d0",
   "metadata": {},
   "outputs": [],
   "source": [
    "import sys\n",
    "import os\n",
    "src_path = \"..\\\\src\"\n",
    "if src_path not in sys.path:\n",
    "    sys.path.insert(0, src_path)\n",
    "\n",
    "import pandas as pd\n",
    "import numpy as np\n",
    "import matplotlib.pyplot as plt\n",
    "import sympy\n",
    "import functions as fc"
   ]
  },
  {
   "cell_type": "markdown",
   "id": "4002a7b7",
   "metadata": {},
   "source": [
    "Hente inn og forberede data"
   ]
  },
  {
   "cell_type": "code",
   "execution_count": 2,
   "id": "86d7a140",
   "metadata": {},
   "outputs": [
    {
     "name": "stdout",
     "output_type": "stream",
     "text": [
      "referansetid er gjort om til DateTime\n",
      "tidsforskyvning har fått labels\n",
      "      Unnamed: 0  verdi  tidsforskyvning              referansetid\n",
      "0              0   10.4                0 2024-01-01 00:00:00+00:00\n",
      "1              1    6.3                1 2024-01-01 00:00:00+00:00\n",
      "2              2    3.1                0 2024-01-02 00:00:00+00:00\n",
      "3              3    6.4                1 2024-01-02 00:00:00+00:00\n",
      "4              4    1.2                0 2024-01-03 00:00:00+00:00\n",
      "...          ...    ...              ...                       ...\n",
      "1455        1455    9.6                1 2024-12-28 00:00:00+00:00\n",
      "1456        1456    2.0                0 2024-12-29 00:00:00+00:00\n",
      "1457        1457    4.5                1 2024-12-29 00:00:00+00:00\n",
      "1458        1458   17.0                0 2024-12-30 00:00:00+00:00\n",
      "1459        1459    7.1                1 2024-12-30 00:00:00+00:00\n",
      "\n",
      "[1460 rows x 4 columns]\n"
     ]
    }
   ],
   "source": [
    "# Hente inn datasett fra data\n",
    "csv_prcp = pd.read_csv(\"../data/precipitation.csv\")\n",
    "\n",
    "# Endre tidshenvisning til datetime-format\n",
    "fc.make_datetime(csv_prcp)\n",
    "fc.label_tidsforskyvning(csv_prcp)"
   ]
  },
  {
   "cell_type": "markdown",
   "id": "ba166022",
   "metadata": {},
   "source": [
    "Visualisere resultater"
   ]
  },
  {
   "cell_type": "code",
   "execution_count": null,
   "id": "25f0fb81",
   "metadata": {},
   "outputs": [
    {
     "name": "stdout",
     "output_type": "stream",
     "text": [
      "Gjennomsnittlig verdi for datasettet er 3.28 mm\n",
      "gjennomsnittlig månedlig verdi er:\n",
      "måned\n",
      "1     4.11\n",
      "2     2.98\n",
      "3     2.29\n",
      "4     1.39\n",
      "5     2.07\n",
      "6     2.69\n",
      "7     2.80\n",
      "8     4.18\n",
      "9     3.20\n",
      "10    3.99\n",
      "11    5.88\n",
      "12    3.76\n",
      "Name: verdi, dtype: float64\n",
      "Medianen er 0.3\n"
     ]
    }
   ],
   "source": [
    "# Regne ut gjennomsnittlig nedbør over tid\n",
    "fc.average_year(csv_prcp)\n",
    "monthly_prcp = fc.average_month(csv_prcp)\n",
    "\n",
    "# Visualisere månedlig gjennomsnitt\n",
    "fc.average_month_bargraph(monthly_prcp, 'Nedbør', 'mm')\n",
    "\n",
    "fc.median(csv_prcp)"
   ]
  }
 ],
 "metadata": {
  "kernelspec": {
   "display_name": "venv",
   "language": "python",
   "name": "python3"
  },
  "language_info": {
   "codemirror_mode": {
    "name": "ipython",
    "version": 3
   },
   "file_extension": ".py",
   "mimetype": "text/x-python",
   "name": "python",
   "nbconvert_exporter": "python",
   "pygments_lexer": "ipython3",
   "version": "3.13.1"
  }
 },
 "nbformat": 4,
 "nbformat_minor": 5
}
